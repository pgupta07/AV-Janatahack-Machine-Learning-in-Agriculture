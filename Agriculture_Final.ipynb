{
 "cells": [
  {
   "cell_type": "code",
   "execution_count": 1,
   "metadata": {},
   "outputs": [],
   "source": [
    "#Importing Packages\n",
    "import numpy as np\n",
    "import pandas as pd\n",
    "import warnings\n",
    "warnings.filterwarnings('ignore')"
   ]
  },
  {
   "cell_type": "code",
   "execution_count": 2,
   "metadata": {},
   "outputs": [],
   "source": [
    "#Reading Data\n",
    "train = pd.read_csv('train_yaOffsB.csv')\n",
    "test = pd.read_csv('test_pFkWwen.csv')"
   ]
  },
  {
   "cell_type": "code",
   "execution_count": 3,
   "metadata": {},
   "outputs": [
    {
     "data": {
      "text/html": [
       "<div>\n",
       "<style scoped>\n",
       "    .dataframe tbody tr th:only-of-type {\n",
       "        vertical-align: middle;\n",
       "    }\n",
       "\n",
       "    .dataframe tbody tr th {\n",
       "        vertical-align: top;\n",
       "    }\n",
       "\n",
       "    .dataframe thead th {\n",
       "        text-align: right;\n",
       "    }\n",
       "</style>\n",
       "<table border=\"1\" class=\"dataframe\">\n",
       "  <thead>\n",
       "    <tr style=\"text-align: right;\">\n",
       "      <th></th>\n",
       "      <th>ID</th>\n",
       "      <th>Estimated_Insects_Count</th>\n",
       "      <th>Crop_Type</th>\n",
       "      <th>Soil_Type</th>\n",
       "      <th>Pesticide_Use_Category</th>\n",
       "      <th>Number_Doses_Week</th>\n",
       "      <th>Number_Weeks_Used</th>\n",
       "      <th>Number_Weeks_Quit</th>\n",
       "      <th>Season</th>\n",
       "      <th>Crop_Damage</th>\n",
       "    </tr>\n",
       "  </thead>\n",
       "  <tbody>\n",
       "    <tr>\n",
       "      <th>0</th>\n",
       "      <td>F00000001</td>\n",
       "      <td>188</td>\n",
       "      <td>1</td>\n",
       "      <td>0</td>\n",
       "      <td>1</td>\n",
       "      <td>0</td>\n",
       "      <td>0.0</td>\n",
       "      <td>0</td>\n",
       "      <td>1</td>\n",
       "      <td>0</td>\n",
       "    </tr>\n",
       "    <tr>\n",
       "      <th>1</th>\n",
       "      <td>F00000003</td>\n",
       "      <td>209</td>\n",
       "      <td>1</td>\n",
       "      <td>0</td>\n",
       "      <td>1</td>\n",
       "      <td>0</td>\n",
       "      <td>0.0</td>\n",
       "      <td>0</td>\n",
       "      <td>2</td>\n",
       "      <td>1</td>\n",
       "    </tr>\n",
       "  </tbody>\n",
       "</table>\n",
       "</div>"
      ],
      "text/plain": [
       "          ID  Estimated_Insects_Count  Crop_Type  Soil_Type  \\\n",
       "0  F00000001                      188          1          0   \n",
       "1  F00000003                      209          1          0   \n",
       "\n",
       "   Pesticide_Use_Category  Number_Doses_Week  Number_Weeks_Used  \\\n",
       "0                       1                  0                0.0   \n",
       "1                       1                  0                0.0   \n",
       "\n",
       "   Number_Weeks_Quit  Season  Crop_Damage  \n",
       "0                  0       1            0  \n",
       "1                  0       2            1  "
      ]
     },
     "execution_count": 3,
     "metadata": {},
     "output_type": "execute_result"
    }
   ],
   "source": [
    "train.head(2)"
   ]
  },
  {
   "cell_type": "code",
   "execution_count": 4,
   "metadata": {},
   "outputs": [
    {
     "data": {
      "text/html": [
       "<div>\n",
       "<style scoped>\n",
       "    .dataframe tbody tr th:only-of-type {\n",
       "        vertical-align: middle;\n",
       "    }\n",
       "\n",
       "    .dataframe tbody tr th {\n",
       "        vertical-align: top;\n",
       "    }\n",
       "\n",
       "    .dataframe thead th {\n",
       "        text-align: right;\n",
       "    }\n",
       "</style>\n",
       "<table border=\"1\" class=\"dataframe\">\n",
       "  <thead>\n",
       "    <tr style=\"text-align: right;\">\n",
       "      <th></th>\n",
       "      <th>ID</th>\n",
       "      <th>Estimated_Insects_Count</th>\n",
       "      <th>Crop_Type</th>\n",
       "      <th>Soil_Type</th>\n",
       "      <th>Pesticide_Use_Category</th>\n",
       "      <th>Number_Doses_Week</th>\n",
       "      <th>Number_Weeks_Used</th>\n",
       "      <th>Number_Weeks_Quit</th>\n",
       "      <th>Season</th>\n",
       "    </tr>\n",
       "  </thead>\n",
       "  <tbody>\n",
       "    <tr>\n",
       "      <th>0</th>\n",
       "      <td>F00000002</td>\n",
       "      <td>188</td>\n",
       "      <td>1</td>\n",
       "      <td>1</td>\n",
       "      <td>1</td>\n",
       "      <td>0</td>\n",
       "      <td>NaN</td>\n",
       "      <td>0</td>\n",
       "      <td>2</td>\n",
       "    </tr>\n",
       "    <tr>\n",
       "      <th>1</th>\n",
       "      <td>F00000007</td>\n",
       "      <td>410</td>\n",
       "      <td>1</td>\n",
       "      <td>1</td>\n",
       "      <td>1</td>\n",
       "      <td>0</td>\n",
       "      <td>0.0</td>\n",
       "      <td>0</td>\n",
       "      <td>2</td>\n",
       "    </tr>\n",
       "  </tbody>\n",
       "</table>\n",
       "</div>"
      ],
      "text/plain": [
       "          ID  Estimated_Insects_Count  Crop_Type  Soil_Type  \\\n",
       "0  F00000002                      188          1          1   \n",
       "1  F00000007                      410          1          1   \n",
       "\n",
       "   Pesticide_Use_Category  Number_Doses_Week  Number_Weeks_Used  \\\n",
       "0                       1                  0                NaN   \n",
       "1                       1                  0                0.0   \n",
       "\n",
       "   Number_Weeks_Quit  Season  \n",
       "0                  0       2  \n",
       "1                  0       2  "
      ]
     },
     "execution_count": 4,
     "metadata": {},
     "output_type": "execute_result"
    }
   ],
   "source": [
    "test.head(2)"
   ]
  },
  {
   "cell_type": "markdown",
   "metadata": {},
   "source": [
    "##### Data Description\n",
    "    Variable\tDefinition\n",
    "    ID\tUniqueID\n",
    "    Estimated_Insects_Count\tEstimated insects count per square meter\n",
    "    Crop_Type\tCategory of Crop(0,1)\n",
    "    Soil_Type\tCategory of Soil (0,1)\n",
    "    Pesticide_Use_Category\tType of pesticides uses (1- Never, 2-Previously Used, 3-Currently Using)\n",
    "    Number_Doses_Week\tNumber of doses per week\n",
    "    Number_Weeks_Used\tNumber of weeks used\n",
    "    Number_Weeks_Quit\tNumber of weeks quit\n",
    "    Season\tSeason Category (1,2,3)\n",
    "    Crop_Damage\tCrop Damage Category (0=alive, 1=Damage due to other causes, 2=Damage due to Pesticides)\n"
   ]
  },
  {
   "cell_type": "code",
   "execution_count": 5,
   "metadata": {},
   "outputs": [],
   "source": [
    "#Checking for Null Values in both train and test data"
   ]
  },
  {
   "cell_type": "code",
   "execution_count": 6,
   "metadata": {},
   "outputs": [
    {
     "data": {
      "text/plain": [
       "ID                          0.00\n",
       "Estimated_Insects_Count     0.00\n",
       "Crop_Type                   0.00\n",
       "Soil_Type                   0.00\n",
       "Pesticide_Use_Category      0.00\n",
       "Number_Doses_Week           0.00\n",
       "Number_Weeks_Used          10.13\n",
       "Number_Weeks_Quit           0.00\n",
       "Season                      0.00\n",
       "Crop_Damage                 0.00\n",
       "dtype: float64"
      ]
     },
     "execution_count": 6,
     "metadata": {},
     "output_type": "execute_result"
    }
   ],
   "source": [
    "round(train.isnull().sum()/train.shape[0]*100,2)"
   ]
  },
  {
   "cell_type": "code",
   "execution_count": 7,
   "metadata": {},
   "outputs": [
    {
     "data": {
      "text/plain": [
       "ID                         0.00\n",
       "Estimated_Insects_Count    0.00\n",
       "Crop_Type                  0.00\n",
       "Soil_Type                  0.00\n",
       "Pesticide_Use_Category     0.00\n",
       "Number_Doses_Week          0.00\n",
       "Number_Weeks_Used          9.94\n",
       "Number_Weeks_Quit          0.00\n",
       "Season                     0.00\n",
       "dtype: float64"
      ]
     },
     "execution_count": 7,
     "metadata": {},
     "output_type": "execute_result"
    }
   ],
   "source": [
    "round(test.isnull().sum()/test.shape[0]*100,2)"
   ]
  },
  {
   "cell_type": "code",
   "execution_count": null,
   "metadata": {},
   "outputs": [],
   "source": [
    "#Imputing Missing Values"
   ]
  },
  {
   "cell_type": "code",
   "execution_count": 8,
   "metadata": {},
   "outputs": [],
   "source": [
    "import seaborn as sns"
   ]
  },
  {
   "cell_type": "code",
   "execution_count": 9,
   "metadata": {},
   "outputs": [
    {
     "data": {
      "text/plain": [
       "<AxesSubplot:xlabel='Number_Weeks_Used', ylabel='count'>"
      ]
     },
     "execution_count": 9,
     "metadata": {},
     "output_type": "execute_result"
    },
    {
     "data": {
      "image/png": "[encoded data removed]",
      "text/plain": [
       "<Figure size 432x288 with 1 Axes>"
      ]
     },
     "metadata": {
      "needs_background": "light"
     },
     "output_type": "display_data"
    }
   ],
   "source": [
    "sns.countplot(train['Number_Weeks_Used'])"
   ]
  },
  {
   "cell_type": "code",
   "execution_count": 10,
   "metadata": {},
   "outputs": [
    {
     "data": {
      "text/plain": [
       "array([ 0., nan, 26., 20., 15., 14., 19., 24.,  8., 23., 25., 28., 29.,\n",
       "       22., 21., 17., 30., 35., 32., 27., 16., 31., 33., 34., 39., 38.,\n",
       "       42., 40., 41., 36., 44., 37., 46., 45., 47., 43., 50., 10., 49.,\n",
       "       53., 48., 51., 54., 52., 55., 56., 61., 18., 57., 62., 60., 63.,\n",
       "       66., 59., 64., 13.,  7.,  5., 12.,  6.,  9., 58., 11., 65., 67.])"
      ]
     },
     "execution_count": 10,
     "metadata": {},
     "output_type": "execute_result"
    }
   ],
   "source": [
    "train['Number_Weeks_Used'].unique()"
   ]
  },
  {
   "cell_type": "code",
   "execution_count": 11,
   "metadata": {},
   "outputs": [
    {
     "data": {
      "text/plain": [
       "28.62397004683313"
      ]
     },
     "execution_count": 11,
     "metadata": {},
     "output_type": "execute_result"
    }
   ],
   "source": [
    "np.mean(train['Number_Weeks_Used'])"
   ]
  },
  {
   "cell_type": "code",
   "execution_count": 12,
   "metadata": {},
   "outputs": [
    {
     "data": {
      "text/plain": [
       "28.70509388396952"
      ]
     },
     "execution_count": 12,
     "metadata": {},
     "output_type": "execute_result"
    }
   ],
   "source": [
    "np.mean(test['Number_Weeks_Used'])"
   ]
  },
  {
   "cell_type": "code",
   "execution_count": 13,
   "metadata": {},
   "outputs": [],
   "source": [
    "train['Number_Weeks_Used'] = train['Number_Weeks_Used'].fillna(29.0)"
   ]
  },
  {
   "cell_type": "code",
   "execution_count": 14,
   "metadata": {},
   "outputs": [],
   "source": [
    "test['Number_Weeks_Used'] = test['Number_Weeks_Used'].fillna(29.0)"
   ]
  },
  {
   "cell_type": "code",
   "execution_count": 15,
   "metadata": {},
   "outputs": [
    {
     "data": {
      "text/plain": [
       "ID                         0\n",
       "Estimated_Insects_Count    0\n",
       "Crop_Type                  0\n",
       "Soil_Type                  0\n",
       "Pesticide_Use_Category     0\n",
       "Number_Doses_Week          0\n",
       "Number_Weeks_Used          0\n",
       "Number_Weeks_Quit          0\n",
       "Season                     0\n",
       "Crop_Damage                0\n",
       "dtype: int64"
      ]
     },
     "execution_count": 15,
     "metadata": {},
     "output_type": "execute_result"
    }
   ],
   "source": [
    "train.isnull().sum()"
   ]
  },
  {
   "cell_type": "code",
   "execution_count": 16,
   "metadata": {},
   "outputs": [
    {
     "data": {
      "text/plain": [
       "ID                         0\n",
       "Estimated_Insects_Count    0\n",
       "Crop_Type                  0\n",
       "Soil_Type                  0\n",
       "Pesticide_Use_Category     0\n",
       "Number_Doses_Week          0\n",
       "Number_Weeks_Used          0\n",
       "Number_Weeks_Quit          0\n",
       "Season                     0\n",
       "dtype: int64"
      ]
     },
     "execution_count": 16,
     "metadata": {},
     "output_type": "execute_result"
    }
   ],
   "source": [
    "test.isnull().sum()"
   ]
  },
  {
   "cell_type": "code",
   "execution_count": 17,
   "metadata": {},
   "outputs": [],
   "source": [
    "#Data Analysis"
   ]
  },
  {
   "cell_type": "code",
   "execution_count": 18,
   "metadata": {},
   "outputs": [
    {
     "data": {
      "text/plain": [
       "ID                          object\n",
       "Estimated_Insects_Count      int64\n",
       "Crop_Type                    int64\n",
       "Soil_Type                    int64\n",
       "Pesticide_Use_Category       int64\n",
       "Number_Doses_Week            int64\n",
       "Number_Weeks_Used          float64\n",
       "Number_Weeks_Quit            int64\n",
       "Season                       int64\n",
       "Crop_Damage                  int64\n",
       "dtype: object"
      ]
     },
     "execution_count": 18,
     "metadata": {},
     "output_type": "execute_result"
    }
   ],
   "source": [
    "train.dtypes"
   ]
  },
  {
   "cell_type": "code",
   "execution_count": 19,
   "metadata": {},
   "outputs": [
    {
     "data": {
      "text/html": [
       "<div>\n",
       "<style scoped>\n",
       "    .dataframe tbody tr th:only-of-type {\n",
       "        vertical-align: middle;\n",
       "    }\n",
       "\n",
       "    .dataframe tbody tr th {\n",
       "        vertical-align: top;\n",
       "    }\n",
       "\n",
       "    .dataframe thead th {\n",
       "        text-align: right;\n",
       "    }\n",
       "</style>\n",
       "<table border=\"1\" class=\"dataframe\">\n",
       "  <thead>\n",
       "    <tr style=\"text-align: right;\">\n",
       "      <th></th>\n",
       "      <th>Estimated_Insects_Count</th>\n",
       "      <th>Crop_Type</th>\n",
       "      <th>Soil_Type</th>\n",
       "      <th>Pesticide_Use_Category</th>\n",
       "      <th>Number_Doses_Week</th>\n",
       "      <th>Number_Weeks_Used</th>\n",
       "      <th>Number_Weeks_Quit</th>\n",
       "      <th>Season</th>\n",
       "      <th>Crop_Damage</th>\n",
       "    </tr>\n",
       "  </thead>\n",
       "  <tbody>\n",
       "    <tr>\n",
       "      <th>count</th>\n",
       "      <td>88858.000000</td>\n",
       "      <td>88858.000000</td>\n",
       "      <td>88858.000000</td>\n",
       "      <td>88858.000000</td>\n",
       "      <td>88858.000000</td>\n",
       "      <td>88858.000000</td>\n",
       "      <td>88858.000000</td>\n",
       "      <td>88858.000000</td>\n",
       "      <td>88858.000000</td>\n",
       "    </tr>\n",
       "    <tr>\n",
       "      <th>mean</th>\n",
       "      <td>1399.012210</td>\n",
       "      <td>0.284375</td>\n",
       "      <td>0.458417</td>\n",
       "      <td>2.264186</td>\n",
       "      <td>25.849952</td>\n",
       "      <td>28.662056</td>\n",
       "      <td>9.589986</td>\n",
       "      <td>1.896959</td>\n",
       "      <td>0.190562</td>\n",
       "    </tr>\n",
       "    <tr>\n",
       "      <th>std</th>\n",
       "      <td>849.048781</td>\n",
       "      <td>0.451119</td>\n",
       "      <td>0.498271</td>\n",
       "      <td>0.461772</td>\n",
       "      <td>15.554428</td>\n",
       "      <td>11.748115</td>\n",
       "      <td>9.900631</td>\n",
       "      <td>0.701322</td>\n",
       "      <td>0.454215</td>\n",
       "    </tr>\n",
       "    <tr>\n",
       "      <th>min</th>\n",
       "      <td>150.000000</td>\n",
       "      <td>0.000000</td>\n",
       "      <td>0.000000</td>\n",
       "      <td>1.000000</td>\n",
       "      <td>0.000000</td>\n",
       "      <td>0.000000</td>\n",
       "      <td>0.000000</td>\n",
       "      <td>1.000000</td>\n",
       "      <td>0.000000</td>\n",
       "    </tr>\n",
       "    <tr>\n",
       "      <th>25%</th>\n",
       "      <td>731.000000</td>\n",
       "      <td>0.000000</td>\n",
       "      <td>0.000000</td>\n",
       "      <td>2.000000</td>\n",
       "      <td>15.000000</td>\n",
       "      <td>20.000000</td>\n",
       "      <td>0.000000</td>\n",
       "      <td>1.000000</td>\n",
       "      <td>0.000000</td>\n",
       "    </tr>\n",
       "    <tr>\n",
       "      <th>50%</th>\n",
       "      <td>1212.000000</td>\n",
       "      <td>0.000000</td>\n",
       "      <td>0.000000</td>\n",
       "      <td>2.000000</td>\n",
       "      <td>20.000000</td>\n",
       "      <td>29.000000</td>\n",
       "      <td>7.000000</td>\n",
       "      <td>2.000000</td>\n",
       "      <td>0.000000</td>\n",
       "    </tr>\n",
       "    <tr>\n",
       "      <th>75%</th>\n",
       "      <td>1898.000000</td>\n",
       "      <td>1.000000</td>\n",
       "      <td>1.000000</td>\n",
       "      <td>3.000000</td>\n",
       "      <td>40.000000</td>\n",
       "      <td>36.000000</td>\n",
       "      <td>16.000000</td>\n",
       "      <td>2.000000</td>\n",
       "      <td>0.000000</td>\n",
       "    </tr>\n",
       "    <tr>\n",
       "      <th>max</th>\n",
       "      <td>4097.000000</td>\n",
       "      <td>1.000000</td>\n",
       "      <td>1.000000</td>\n",
       "      <td>3.000000</td>\n",
       "      <td>95.000000</td>\n",
       "      <td>67.000000</td>\n",
       "      <td>50.000000</td>\n",
       "      <td>3.000000</td>\n",
       "      <td>2.000000</td>\n",
       "    </tr>\n",
       "  </tbody>\n",
       "</table>\n",
       "</div>"
      ],
      "text/plain": [
       "       Estimated_Insects_Count     Crop_Type     Soil_Type  \\\n",
       "count             88858.000000  88858.000000  88858.000000   \n",
       "mean               1399.012210      0.284375      0.458417   \n",
       "std                 849.048781      0.451119      0.498271   \n",
       "min                 150.000000      0.000000      0.000000   \n",
       "25%                 731.000000      0.000000      0.000000   \n",
       "50%                1212.000000      0.000000      0.000000   \n",
       "75%                1898.000000      1.000000      1.000000   \n",
       "max                4097.000000      1.000000      1.000000   \n",
       "\n",
       "       Pesticide_Use_Category  Number_Doses_Week  Number_Weeks_Used  \\\n",
       "count            88858.000000       88858.000000       88858.000000   \n",
       "mean                 2.264186          25.849952          28.662056   \n",
       "std                  0.461772          15.554428          11.748115   \n",
       "min                  1.000000           0.000000           0.000000   \n",
       "25%                  2.000000          15.000000          20.000000   \n",
       "50%                  2.000000          20.000000          29.000000   \n",
       "75%                  3.000000          40.000000          36.000000   \n",
       "max                  3.000000          95.000000          67.000000   \n",
       "\n",
       "       Number_Weeks_Quit        Season   Crop_Damage  \n",
       "count       88858.000000  88858.000000  88858.000000  \n",
       "mean            9.589986      1.896959      0.190562  \n",
       "std             9.900631      0.701322      0.454215  \n",
       "min             0.000000      1.000000      0.000000  \n",
       "25%             0.000000      1.000000      0.000000  \n",
       "50%             7.000000      2.000000      0.000000  \n",
       "75%            16.000000      2.000000      0.000000  \n",
       "max            50.000000      3.000000      2.000000  "
      ]
     },
     "execution_count": 19,
     "metadata": {},
     "output_type": "execute_result"
    }
   ],
   "source": [
    "train.describe()"
   ]
  },
  {
   "cell_type": "code",
   "execution_count": 20,
   "metadata": {},
   "outputs": [
    {
     "data": {
      "text/plain": [
       "<AxesSubplot:xlabel='Crop_Damage', ylabel='count'>"
      ]
     },
     "execution_count": 20,
     "metadata": {},
     "output_type": "execute_result"
    },
    {
     "data": {
      "image/png": "[encoded data removed]",
      "text/plain": [
       "<Figure size 432x288 with 1 Axes>"
      ]
     },
     "metadata": {
      "needs_background": "light"
     },
     "output_type": "display_data"
    }
   ],
   "source": [
    "sns.countplot(x='Crop_Damage', data=train)"
   ]
  },
  {
   "cell_type": "code",
   "execution_count": 21,
   "metadata": {},
   "outputs": [
    {
     "data": {
      "text/plain": [
       "0    74238\n",
       "1    12307\n",
       "2     2313\n",
       "Name: Crop_Damage, dtype: int64"
      ]
     },
     "execution_count": 21,
     "metadata": {},
     "output_type": "execute_result"
    }
   ],
   "source": [
    "#To get the count of unique values:\n",
    "train['Crop_Damage'].value_counts()"
   ]
  },
  {
   "cell_type": "code",
   "execution_count": 22,
   "metadata": {},
   "outputs": [
    {
     "data": {
      "text/plain": [
       "array([[<AxesSubplot:title={'center':'Crop_Damage'}>,\n",
       "        <AxesSubplot:title={'center':'Crop_Type'}>,\n",
       "        <AxesSubplot:title={'center':'Estimated_Insects_Count'}>],\n",
       "       [<AxesSubplot:title={'center':'Number_Doses_Week'}>,\n",
       "        <AxesSubplot:title={'center':'Number_Weeks_Quit'}>,\n",
       "        <AxesSubplot:title={'center':'Number_Weeks_Used'}>],\n",
       "       [<AxesSubplot:title={'center':'Pesticide_Use_Category'}>,\n",
       "        <AxesSubplot:title={'center':'Season'}>,\n",
       "        <AxesSubplot:title={'center':'Soil_Type'}>]], dtype=object)"
      ]
     },
     "execution_count": 22,
     "metadata": {},
     "output_type": "execute_result"
    },
    {
     "data": {
      "image/png": "[encoded data removed]",
      "text/plain": [
       "<Figure size 1440x720 with 9 Axes>"
      ]
     },
     "metadata": {
      "needs_background": "light"
     },
     "output_type": "display_data"
    }
   ],
   "source": [
    "#Histogram to check for Data Distribution(skew) and outliers\n",
    "train.hist(figsize=(20,10))"
   ]
  },
  {
   "cell_type": "code",
   "execution_count": 23,
   "metadata": {},
   "outputs": [],
   "source": [
    "from scipy.stats import skew"
   ]
  },
  {
   "cell_type": "code",
   "execution_count": 24,
   "metadata": {},
   "outputs": [
    {
     "data": {
      "text/plain": [
       "ID                          object\n",
       "Estimated_Insects_Count      int64\n",
       "Crop_Type                    int64\n",
       "Soil_Type                    int64\n",
       "Pesticide_Use_Category       int64\n",
       "Number_Doses_Week            int64\n",
       "Number_Weeks_Used          float64\n",
       "Number_Weeks_Quit            int64\n",
       "Season                       int64\n",
       "Crop_Damage                  int64\n",
       "dtype: object"
      ]
     },
     "execution_count": 24,
     "metadata": {},
     "output_type": "execute_result"
    }
   ],
   "source": [
    "train.dtypes"
   ]
  },
  {
   "cell_type": "code",
   "execution_count": 25,
   "metadata": {},
   "outputs": [
    {
     "data": {
      "text/plain": [
       "array([0.83913147, 0.96286232, 0.24824378, 0.89275746])"
      ]
     },
     "execution_count": 25,
     "metadata": {},
     "output_type": "execute_result"
    }
   ],
   "source": [
    "num_features = ['Estimated_Insects_Count','Number_Doses_Week','Number_Weeks_Used','Number_Weeks_Quit']\n",
    "skew(train[num_features])"
   ]
  },
  {
   "cell_type": "code",
   "execution_count": 26,
   "metadata": {},
   "outputs": [
    {
     "data": {
      "text/plain": [
       "<AxesSubplot:xlabel='Estimated_Insects_Count'>"
      ]
     },
     "execution_count": 26,
     "metadata": {},
     "output_type": "execute_result"
    },
    {
     "data": {
      "image/png": "[encoded data removed]",
      "text/plain": [
       "<Figure size 432x288 with 1 Axes>"
      ]
     },
     "metadata": {
      "needs_background": "light"
     },
     "output_type": "display_data"
    }
   ],
   "source": [
    "sns.boxplot(x=train['Estimated_Insects_Count'])"
   ]
  },
  {
   "cell_type": "code",
   "execution_count": 27,
   "metadata": {},
   "outputs": [],
   "source": [
    "train_df = train"
   ]
  },
  {
   "cell_type": "code",
   "execution_count": 28,
   "metadata": {},
   "outputs": [],
   "source": [
    "test_df = test"
   ]
  },
  {
   "cell_type": "code",
   "execution_count": 29,
   "metadata": {},
   "outputs": [],
   "source": [
    "cat_features = ['Crop_Type','Soil_Type','Pesticide_Use_Category','Season']"
   ]
  },
  {
   "cell_type": "code",
   "execution_count": 30,
   "metadata": {},
   "outputs": [],
   "source": [
    "train_df[cat_features] = train[cat_features].astype(str)\n",
    "test_df[cat_features] = test_df[cat_features].astype(str)"
   ]
  },
  {
   "cell_type": "code",
   "execution_count": 31,
   "metadata": {},
   "outputs": [
    {
     "data": {
      "text/plain": [
       "ID                          object\n",
       "Estimated_Insects_Count      int64\n",
       "Crop_Type                   object\n",
       "Soil_Type                   object\n",
       "Pesticide_Use_Category      object\n",
       "Number_Doses_Week            int64\n",
       "Number_Weeks_Used          float64\n",
       "Number_Weeks_Quit            int64\n",
       "Season                      object\n",
       "Crop_Damage                  int64\n",
       "dtype: object"
      ]
     },
     "execution_count": 31,
     "metadata": {},
     "output_type": "execute_result"
    }
   ],
   "source": [
    "train_df.dtypes"
   ]
  },
  {
   "cell_type": "code",
   "execution_count": 32,
   "metadata": {},
   "outputs": [
    {
     "data": {
      "text/plain": [
       "ID                          object\n",
       "Estimated_Insects_Count      int64\n",
       "Crop_Type                   object\n",
       "Soil_Type                   object\n",
       "Pesticide_Use_Category      object\n",
       "Number_Doses_Week            int64\n",
       "Number_Weeks_Used          float64\n",
       "Number_Weeks_Quit            int64\n",
       "Season                      object\n",
       "dtype: object"
      ]
     },
     "execution_count": 32,
     "metadata": {},
     "output_type": "execute_result"
    }
   ],
   "source": [
    "test_df.dtypes"
   ]
  },
  {
   "cell_type": "code",
   "execution_count": 33,
   "metadata": {},
   "outputs": [],
   "source": [
    "#Dropping ID from both train and test dataset\n",
    "train_df.drop('ID', axis=1, inplace=True)\n",
    "test_id = test_df['ID']\n",
    "test_df.drop('ID', axis=1, inplace=True)"
   ]
  },
  {
   "cell_type": "code",
   "execution_count": 34,
   "metadata": {},
   "outputs": [
    {
     "data": {
      "text/html": [
       "<div>\n",
       "<style scoped>\n",
       "    .dataframe tbody tr th:only-of-type {\n",
       "        vertical-align: middle;\n",
       "    }\n",
       "\n",
       "    .dataframe tbody tr th {\n",
       "        vertical-align: top;\n",
       "    }\n",
       "\n",
       "    .dataframe thead th {\n",
       "        text-align: right;\n",
       "    }\n",
       "</style>\n",
       "<table border=\"1\" class=\"dataframe\">\n",
       "  <thead>\n",
       "    <tr style=\"text-align: right;\">\n",
       "      <th></th>\n",
       "      <th>Estimated_Insects_Count</th>\n",
       "      <th>Crop_Type</th>\n",
       "      <th>Soil_Type</th>\n",
       "      <th>Pesticide_Use_Category</th>\n",
       "      <th>Number_Doses_Week</th>\n",
       "      <th>Number_Weeks_Used</th>\n",
       "      <th>Number_Weeks_Quit</th>\n",
       "      <th>Season</th>\n",
       "      <th>Crop_Damage</th>\n",
       "    </tr>\n",
       "  </thead>\n",
       "  <tbody>\n",
       "    <tr>\n",
       "      <th>0</th>\n",
       "      <td>188</td>\n",
       "      <td>1</td>\n",
       "      <td>0</td>\n",
       "      <td>1</td>\n",
       "      <td>0</td>\n",
       "      <td>0.0</td>\n",
       "      <td>0</td>\n",
       "      <td>1</td>\n",
       "      <td>0</td>\n",
       "    </tr>\n",
       "    <tr>\n",
       "      <th>1</th>\n",
       "      <td>209</td>\n",
       "      <td>1</td>\n",
       "      <td>0</td>\n",
       "      <td>1</td>\n",
       "      <td>0</td>\n",
       "      <td>0.0</td>\n",
       "      <td>0</td>\n",
       "      <td>2</td>\n",
       "      <td>1</td>\n",
       "    </tr>\n",
       "  </tbody>\n",
       "</table>\n",
       "</div>"
      ],
      "text/plain": [
       "   Estimated_Insects_Count Crop_Type Soil_Type Pesticide_Use_Category  \\\n",
       "0                      188         1         0                      1   \n",
       "1                      209         1         0                      1   \n",
       "\n",
       "   Number_Doses_Week  Number_Weeks_Used  Number_Weeks_Quit Season  Crop_Damage  \n",
       "0                  0                0.0                  0      1            0  \n",
       "1                  0                0.0                  0      2            1  "
      ]
     },
     "execution_count": 34,
     "metadata": {},
     "output_type": "execute_result"
    }
   ],
   "source": [
    "train_df.head(2)"
   ]
  },
  {
   "cell_type": "code",
   "execution_count": 36,
   "metadata": {},
   "outputs": [
    {
     "data": {
      "text/html": [
       "<div>\n",
       "<style scoped>\n",
       "    .dataframe tbody tr th:only-of-type {\n",
       "        vertical-align: middle;\n",
       "    }\n",
       "\n",
       "    .dataframe tbody tr th {\n",
       "        vertical-align: top;\n",
       "    }\n",
       "\n",
       "    .dataframe thead th {\n",
       "        text-align: right;\n",
       "    }\n",
       "</style>\n",
       "<table border=\"1\" class=\"dataframe\">\n",
       "  <thead>\n",
       "    <tr style=\"text-align: right;\">\n",
       "      <th></th>\n",
       "      <th>Estimated_Insects_Count</th>\n",
       "      <th>Crop_Type</th>\n",
       "      <th>Soil_Type</th>\n",
       "      <th>Pesticide_Use_Category</th>\n",
       "      <th>Number_Doses_Week</th>\n",
       "      <th>Number_Weeks_Used</th>\n",
       "      <th>Number_Weeks_Quit</th>\n",
       "      <th>Season</th>\n",
       "    </tr>\n",
       "  </thead>\n",
       "  <tbody>\n",
       "    <tr>\n",
       "      <th>0</th>\n",
       "      <td>188</td>\n",
       "      <td>1</td>\n",
       "      <td>1</td>\n",
       "      <td>1</td>\n",
       "      <td>0</td>\n",
       "      <td>29.0</td>\n",
       "      <td>0</td>\n",
       "      <td>2</td>\n",
       "    </tr>\n",
       "    <tr>\n",
       "      <th>1</th>\n",
       "      <td>410</td>\n",
       "      <td>1</td>\n",
       "      <td>1</td>\n",
       "      <td>1</td>\n",
       "      <td>0</td>\n",
       "      <td>0.0</td>\n",
       "      <td>0</td>\n",
       "      <td>2</td>\n",
       "    </tr>\n",
       "  </tbody>\n",
       "</table>\n",
       "</div>"
      ],
      "text/plain": [
       "   Estimated_Insects_Count Crop_Type Soil_Type Pesticide_Use_Category  \\\n",
       "0                      188         1         1                      1   \n",
       "1                      410         1         1                      1   \n",
       "\n",
       "   Number_Doses_Week  Number_Weeks_Used  Number_Weeks_Quit Season  \n",
       "0                  0               29.0                  0      2  \n",
       "1                  0                0.0                  0      2  "
      ]
     },
     "execution_count": 36,
     "metadata": {},
     "output_type": "execute_result"
    }
   ],
   "source": [
    "test_df.head(2)"
   ]
  },
  {
   "cell_type": "code",
   "execution_count": 37,
   "metadata": {},
   "outputs": [],
   "source": [
    "train_df = pd.get_dummies(train_df)\n",
    "test_df = pd.get_dummies(test_df)"
   ]
  },
  {
   "cell_type": "code",
   "execution_count": 38,
   "metadata": {},
   "outputs": [],
   "source": [
    "X = train_df.drop('Crop_Damage', axis=1)\n",
    "y = train_df['Crop_Damage']"
   ]
  },
  {
   "cell_type": "code",
   "execution_count": 39,
   "metadata": {},
   "outputs": [],
   "source": [
    "from sklearn.linear_model import LogisticRegression, LogisticRegressionCV\n",
    "from sklearn.ensemble import RandomForestClassifier\n",
    "from sklearn.metrics import accuracy_score\n",
    "from sklearn.model_selection import train_test_split, GridSearchCV, RandomizedSearchCV, cross_val_score, RepeatedStratifiedKFold"
   ]
  },
  {
   "cell_type": "code",
   "execution_count": 40,
   "metadata": {},
   "outputs": [],
   "source": [
    "X_train, X_test, y_train, y_test = train_test_split(X, y, test_size=0.3, random_state=42)"
   ]
  },
  {
   "cell_type": "code",
   "execution_count": 41,
   "metadata": {},
   "outputs": [],
   "source": [
    "lr = LogisticRegression()\n",
    "lr.fit(X_train, y_train)\n",
    "pred_lr = lr.predict(X_test)"
   ]
  },
  {
   "cell_type": "code",
   "execution_count": 42,
   "metadata": {},
   "outputs": [],
   "source": [
    "score = accuracy_score(y_test, pred_lr)"
   ]
  },
  {
   "cell_type": "code",
   "execution_count": 43,
   "metadata": {},
   "outputs": [
    {
     "data": {
      "text/plain": [
       "0.8323955285467777"
      ]
     },
     "execution_count": 43,
     "metadata": {},
     "output_type": "execute_result"
    }
   ],
   "source": [
    "score"
   ]
  },
  {
   "cell_type": "code",
   "execution_count": 44,
   "metadata": {},
   "outputs": [],
   "source": [
    "y_pred_lr = lr.predict(test_df)"
   ]
  },
  {
   "cell_type": "code",
   "execution_count": 201,
   "metadata": {},
   "outputs": [],
   "source": [
    "#saving the mapping to a dictionary\n",
    "import pickle\n",
    "pickle_path = \"./y_pred_lr.pkl\"\n",
    "pickle_mapping = open(pickle_path,\"wb\")\n",
    "pickle.dump(y_pred_lr, pickle_mapping)\n",
    "pickle_mapping.close()"
   ]
  },
  {
   "cell_type": "code",
   "execution_count": 58,
   "metadata": {},
   "outputs": [],
   "source": [
    "submission = pd.DataFrame(columns=['ID','Crop_Damage'])\n",
    "submission['ID'] = test_id\n",
    "submission['Crop_Damage'] = y_pred_lr\n",
    "submission.to_csv('submission_lr.csv', index=False)"
   ]
  },
  {
   "cell_type": "code",
   "execution_count": 45,
   "metadata": {},
   "outputs": [],
   "source": [
    "#Hyper Parameter Tuning"
   ]
  },
  {
   "cell_type": "code",
   "execution_count": null,
   "metadata": {},
   "outputs": [],
   "source": [
    "model = LogisticRegression()\n",
    "solvers = ['newton-cg', 'sag', 'lbfgs']\n",
    "penalty = ['l2']\n",
    "C = [0.01, 0.1, 1.0, 10, 100]\n",
    "param = dict(solver=solvers, penalty=penalty, C=C)\n",
    "#cv = RepeatedStratifiedKFold(n_splits=10, n_repeats=3, random_state=42)\n",
    "random_search = RandomizedSearchCV(estimator=model, param_distributions=param, cv=5, scoring='accuracy')\n",
    "random_result = random_search.fit(X_train, y_train)"
   ]
  },
  {
   "cell_type": "code",
   "execution_count": 70,
   "metadata": {},
   "outputs": [
    {
     "name": "stdout",
     "output_type": "stream",
     "text": [
      "0.8394051446945336 {'solver': 'newton-cg', 'penalty': 'l2', 'C': 1.0}\n"
     ]
    }
   ],
   "source": [
    "print(random_result.best_score_, random_result.best_params_)"
   ]
  },
  {
   "cell_type": "code",
   "execution_count": 73,
   "metadata": {},
   "outputs": [
    {
     "data": {
      "text/plain": [
       "LogisticRegression(solver='newton-cg')"
      ]
     },
     "execution_count": 73,
     "metadata": {},
     "output_type": "execute_result"
    }
   ],
   "source": [
    "model_lr = LogisticRegression(solver='newton-cg', penalty='l2',C=1.0)\n",
    "model_lr.fit(X_train, y_train)"
   ]
  },
  {
   "cell_type": "code",
   "execution_count": 75,
   "metadata": {},
   "outputs": [],
   "source": [
    "y_pred_lr_tuned = model_lr.predict(X_test)"
   ]
  },
  {
   "cell_type": "code",
   "execution_count": 76,
   "metadata": {},
   "outputs": [],
   "source": [
    "score = accuracy_score(y_test, y_pred_lr_tuned)"
   ]
  },
  {
   "cell_type": "code",
   "execution_count": 77,
   "metadata": {},
   "outputs": [
    {
     "data": {
      "text/plain": [
       "0.8370470402880936"
      ]
     },
     "execution_count": 77,
     "metadata": {},
     "output_type": "execute_result"
    }
   ],
   "source": [
    "score"
   ]
  },
  {
   "cell_type": "code",
   "execution_count": 83,
   "metadata": {},
   "outputs": [],
   "source": [
    "y_pred_lr_1 = model_lr.predict(test_df)"
   ]
  },
  {
   "cell_type": "code",
   "execution_count": 202,
   "metadata": {},
   "outputs": [],
   "source": [
    "pickle_path = \"./y_pred_lr_1.pkl\"\n",
    "pickle_mapping = open(pickle_path,\"wb\")\n",
    "pickle.dump(y_pred_lr_1, pickle_mapping)\n",
    "pickle_mapping.close()"
   ]
  },
  {
   "cell_type": "code",
   "execution_count": 84,
   "metadata": {},
   "outputs": [],
   "source": [
    "submission_lr_1 = pd.DataFrame(columns=['ID','Crop_Damage'])\n",
    "submission_lr_1['ID'] = test_id\n",
    "submission_lr_1['Crop_Damage'] = y_pred_lr_1\n",
    "submission_lr_1.to_csv('submission_lr_tuned.csv', index=False)"
   ]
  },
  {
   "cell_type": "code",
   "execution_count": 79,
   "metadata": {},
   "outputs": [],
   "source": [
    "rf = RandomForestClassifier()\n",
    "rf.fit(X_train, y_train)\n",
    "pred_rf = rf.predict(X_test)"
   ]
  },
  {
   "cell_type": "code",
   "execution_count": 80,
   "metadata": {},
   "outputs": [
    {
     "data": {
      "text/plain": [
       "0.8218170905544302"
      ]
     },
     "execution_count": 80,
     "metadata": {},
     "output_type": "execute_result"
    }
   ],
   "source": [
    "score = accuracy_score(y_test, pred_rf)\n",
    "score"
   ]
  },
  {
   "cell_type": "code",
   "execution_count": 85,
   "metadata": {},
   "outputs": [],
   "source": [
    "y_pred_rf = rf.predict(test_df)"
   ]
  },
  {
   "cell_type": "code",
   "execution_count": 203,
   "metadata": {},
   "outputs": [],
   "source": [
    "pickle_path = \"./y_pred_rf.pkl\"\n",
    "pickle_mapping = open(pickle_path,\"wb\")\n",
    "pickle.dump(y_pred_rf, pickle_mapping)\n",
    "pickle_mapping.close()"
   ]
  },
  {
   "cell_type": "code",
   "execution_count": 86,
   "metadata": {},
   "outputs": [],
   "source": [
    "submission_rf = pd.DataFrame(columns=['ID','Crop_Damage'])\n",
    "submission_rf['ID'] = test_id\n",
    "submission_rf['Crop_Damage'] = y_pred_rf\n",
    "submission_rf.to_csv('submission_rf.csv', index=False)"
   ]
  },
  {
   "cell_type": "code",
   "execution_count": 64,
   "metadata": {},
   "outputs": [],
   "source": [
    "import matplotlib.pyplot as plt"
   ]
  },
  {
   "cell_type": "code",
   "execution_count": 69,
   "metadata": {},
   "outputs": [
    {
     "data": {
      "text/plain": [
       "<AxesSubplot:>"
      ]
     },
     "execution_count": 69,
     "metadata": {},
     "output_type": "execute_result"
    },
    {
     "data": {
      "image/png": "[encoded data removed]",
      "text/plain": [
       "<Figure size 1440x360 with 2 Axes>"
      ]
     },
     "metadata": {
      "needs_background": "light"
     },
     "output_type": "display_data"
    }
   ],
   "source": [
    "### correlation\n",
    "plt.figure(figsize=(20,5))\n",
    "sns.heatmap(train.corr(), annot=True)"
   ]
  },
  {
   "cell_type": "code",
   "execution_count": 87,
   "metadata": {},
   "outputs": [],
   "source": [
    "from sklearn.ensemble.gradient_boosting import GradientBoostingClassifier"
   ]
  },
  {
   "cell_type": "code",
   "execution_count": 89,
   "metadata": {},
   "outputs": [],
   "source": [
    "from lightgbm import LGBMModel,LGBMClassifier"
   ]
  },
  {
   "cell_type": "code",
   "execution_count": 90,
   "metadata": {},
   "outputs": [],
   "source": [
    "def find_score(clf, X, y, scoring='accuracy'):\n",
    "    xval = cross_val_score(clf, X, y, cv = 5, scoring=scoring)\n",
    "    return np.mean(xval)"
   ]
  },
  {
   "cell_type": "code",
   "execution_count": 91,
   "metadata": {},
   "outputs": [
    {
     "name": "stdout",
     "output_type": "stream",
     "text": [
      "Cross-validation of : <class 'sklearn.linear_model._logistic.LogisticRegression'>\n",
      "CV score = 0.8326848874598071\n",
      "****\n",
      "Cross-validation of : <class 'sklearn.linear_model._logistic.LogisticRegressionCV'>\n",
      "CV score = 0.835128617363344\n",
      "****\n",
      "Cross-validation of : <class 'sklearn.ensemble._forest.RandomForestClassifier'>\n",
      "CV score = 0.8243086816720258\n",
      "****\n",
      "Cross-validation of : <class 'sklearn.ensemble._gb.GradientBoostingClassifier'>\n",
      "CV score = 0.8456913183279744\n",
      "****\n",
      "Cross-validation of : <class 'lightgbm.sklearn.LGBMClassifier'>\n",
      "CV score = 0.8478456591639871\n",
      "****\n"
     ]
    }
   ],
   "source": [
    "logreg = LogisticRegression()\n",
    "logreg_cv = LogisticRegressionCV()\n",
    "rf = RandomForestClassifier()\n",
    "gboost = GradientBoostingClassifier()\n",
    "lgbm = LGBMClassifier()\n",
    "\n",
    "models = [logreg, logreg_cv, rf, gboost, lgbm]\n",
    "\n",
    "for model in models:\n",
    "    print('Cross-validation of : {0}'.format(model.__class__))\n",
    "    score = find_score(clf=model, X=X_train, y=y_train, scoring='accuracy')\n",
    "    print('CV score = {0}'.format(score))\n",
    "    print('****')"
   ]
  },
  {
   "cell_type": "code",
   "execution_count": 92,
   "metadata": {},
   "outputs": [],
   "source": [
    "model_rf = RandomForestClassifier()\n",
    "n_estimators = [10, 50, 100, 200]\n",
    "max_depth = [4, 6, 8, 10]\n",
    "max_features =  ['sqrt', 'auto', 'log2']\n",
    "min_samples_split = [2, 3, 5, 10]\n",
    "min_samples_leaf = [3, 5, 10] \n",
    "bootstrap = [True, False]\n",
    "grid = dict(n_estimators=n_estimators, max_depth=max_depth, max_features=max_features, min_samples_split = min_samples_split, min_samples_leaf=min_samples_leaf, bootstrap=bootstrap)\n",
    "cv = RepeatedStratifiedKFold(n_splits=10, n_repeats=3, random_state=42)\n",
    "random_search = RandomizedSearchCV(estimator=model_rf, param_distributions=grid, n_jobs=-1, cv=cv, scoring='accuracy')\n",
    "random_result = random_search.fit(X_train,y_train)"
   ]
  },
  {
   "cell_type": "code",
   "execution_count": 93,
   "metadata": {},
   "outputs": [
    {
     "data": {
      "text/plain": [
       "{'n_estimators': 50,\n",
       " 'min_samples_split': 2,\n",
       " 'min_samples_leaf': 3,\n",
       " 'max_features': 'sqrt',\n",
       " 'max_depth': 10,\n",
       " 'bootstrap': True}"
      ]
     },
     "execution_count": 93,
     "metadata": {},
     "output_type": "execute_result"
    }
   ],
   "source": [
    "random_result.best_params_"
   ]
  },
  {
   "cell_type": "code",
   "execution_count": 94,
   "metadata": {},
   "outputs": [
    {
     "data": {
      "text/plain": [
       "0.8431457663451233"
      ]
     },
     "execution_count": 94,
     "metadata": {},
     "output_type": "execute_result"
    }
   ],
   "source": [
    "random_result.best_score_"
   ]
  },
  {
   "cell_type": "code",
   "execution_count": 98,
   "metadata": {},
   "outputs": [],
   "source": [
    "model_rf_tuned = RandomForestClassifier(n_estimators=50, min_samples_split=3, min_samples_leaf=2, max_features='sqrt', max_depth=10, bootstrap=True)"
   ]
  },
  {
   "cell_type": "code",
   "execution_count": 99,
   "metadata": {},
   "outputs": [],
   "source": [
    "model_rf_tuned.fit(X_train, y_train)\n",
    "y_test_rf_tuned = model_rf_tuned.predict(X_test)"
   ]
  },
  {
   "cell_type": "code",
   "execution_count": 100,
   "metadata": {},
   "outputs": [
    {
     "data": {
      "text/plain": [
       "0.8402355765623828"
      ]
     },
     "execution_count": 100,
     "metadata": {},
     "output_type": "execute_result"
    }
   ],
   "source": [
    "score = accuracy_score(y_test, y_test_rf_tuned)\n",
    "score"
   ]
  },
  {
   "cell_type": "code",
   "execution_count": 102,
   "metadata": {},
   "outputs": [],
   "source": [
    "y_pred_rf_tuned = model_rf_tuned.predict(test_df)"
   ]
  },
  {
   "cell_type": "code",
   "execution_count": 204,
   "metadata": {},
   "outputs": [],
   "source": [
    "pickle_path = \"./y_pred_rf_tuned.pkl\"\n",
    "pickle_mapping = open(pickle_path,\"wb\")\n",
    "pickle.dump(y_pred_rf_tuned, pickle_mapping)\n",
    "pickle_mapping.close()"
   ]
  },
  {
   "cell_type": "code",
   "execution_count": 103,
   "metadata": {},
   "outputs": [],
   "source": [
    "submission_rf_tuned = pd.DataFrame(columns=['ID','Crop_Damage'])\n",
    "submission_rf_tuned['ID'] = test_id\n",
    "submission_rf_tuned['Crop_Damage'] = y_pred_rf_tuned\n",
    "submission_rf_tuned.to_csv('submission_rf_tuned.csv', index=False)"
   ]
  },
  {
   "cell_type": "code",
   "execution_count": null,
   "metadata": {},
   "outputs": [],
   "source": []
  },
  {
   "cell_type": "markdown",
   "metadata": {},
   "source": [
    "## LightGBM"
   ]
  },
  {
   "cell_type": "code",
   "execution_count": 104,
   "metadata": {},
   "outputs": [],
   "source": [
    "lgbm = LGBMClassifier()"
   ]
  },
  {
   "cell_type": "code",
   "execution_count": 106,
   "metadata": {},
   "outputs": [
    {
     "data": {
      "text/plain": [
       "LGBMClassifier()"
      ]
     },
     "execution_count": 106,
     "metadata": {},
     "output_type": "execute_result"
    }
   ],
   "source": [
    "lgbm.fit(X_train, y_train)"
   ]
  },
  {
   "cell_type": "code",
   "execution_count": 108,
   "metadata": {},
   "outputs": [],
   "source": [
    "y_test_lgbm = lgbm.predict(X_test)"
   ]
  },
  {
   "cell_type": "code",
   "execution_count": 110,
   "metadata": {},
   "outputs": [
    {
     "data": {
      "text/plain": [
       "0.844774551729312"
      ]
     },
     "execution_count": 110,
     "metadata": {},
     "output_type": "execute_result"
    }
   ],
   "source": [
    "score = accuracy_score(y_test, y_test_lgbm)\n",
    "score"
   ]
  },
  {
   "cell_type": "code",
   "execution_count": 111,
   "metadata": {},
   "outputs": [],
   "source": [
    "y_pred_lgbm = lgbm.predict(test_df)"
   ]
  },
  {
   "cell_type": "code",
   "execution_count": 205,
   "metadata": {},
   "outputs": [],
   "source": [
    "pickle_path = \"./y_pred_lgbm.pkl\"\n",
    "pickle_mapping = open(pickle_path,\"wb\")\n",
    "pickle.dump(y_pred_lgbm, pickle_mapping)\n",
    "pickle_mapping.close()"
   ]
  },
  {
   "cell_type": "code",
   "execution_count": 112,
   "metadata": {},
   "outputs": [],
   "source": [
    "submission_lgbm = pd.DataFrame(columns=['ID','Crop_Damage'])\n",
    "submission_lgbm['ID'] = test_id\n",
    "submission_lgbm['Crop_Damage'] = y_pred_lgbm\n",
    "submission_lgbm.to_csv('submission_lgbm.csv', index=False)"
   ]
  },
  {
   "cell_type": "code",
   "execution_count": 114,
   "metadata": {},
   "outputs": [
    {
     "name": "stdout",
     "output_type": "stream",
     "text": [
      "Collecting catboost\n",
      "  Downloading https://files.pythonhosted.org/packages/24/d3/6336c9dece6d189c8055e13809e5b3799120c2e83776a85546790403f4f8/catboost-0.23.2-cp37-none-win_amd64.whl (63.6MB)\n",
      "Collecting graphviz (from catboost)\n",
      "  Downloading https://files.pythonhosted.org/packages/62/dc/9dd6a6b9b8977248e165e075b109eea6e8eac71faa28ca378c3d98e54fbe/graphviz-0.14.1-py2.py3-none-any.whl\n",
      "Requirement already satisfied: six in d:\\users\\pgupta43\\appdata\\local\\continuum\\anaconda3\\lib\\site-packages (from catboost) (1.12.0)\n",
      "Requirement already satisfied: numpy>=1.16.0 in d:\\users\\pgupta43\\appdata\\local\\continuum\\anaconda3\\lib\\site-packages (from catboost) (1.19.0)\n",
      "Requirement already satisfied: matplotlib in d:\\users\\pgupta43\\appdata\\roaming\\python\\python37\\site-packages (from catboost) (3.3.0)\n",
      "Requirement already satisfied: pandas>=0.24.0 in d:\\users\\pgupta43\\appdata\\local\\continuum\\anaconda3\\lib\\site-packages (from catboost) (1.0.5)\n",
      "Requirement already satisfied: scipy in d:\\users\\pgupta43\\appdata\\roaming\\python\\python37\\site-packages (from catboost) (1.5.1)\n",
      "Collecting plotly (from catboost)\n",
      "  Downloading https://files.pythonhosted.org/packages/bf/5f/47ab0d9d843c5be0f5c5bd891736a4c84fa45c3b0a0ddb6b6df7c098c66f/plotly-4.9.0-py2.py3-none-any.whl (12.9MB)\n",
      "Requirement already satisfied: pillow>=6.2.0 in d:\\users\\pgupta43\\appdata\\local\\continuum\\anaconda3\\lib\\site-packages (from matplotlib->catboost) (6.2.0)\n",
      "Requirement already satisfied: cycler>=0.10 in d:\\users\\pgupta43\\appdata\\local\\continuum\\anaconda3\\lib\\site-packages (from matplotlib->catboost) (0.10.0)\n",
      "Requirement already satisfied: python-dateutil>=2.1 in d:\\users\\pgupta43\\appdata\\local\\continuum\\anaconda3\\lib\\site-packages (from matplotlib->catboost) (2.8.0)\n",
      "Requirement already satisfied: pyparsing!=2.0.4,!=2.1.2,!=2.1.6,>=2.0.3 in d:\\users\\pgupta43\\appdata\\local\\continuum\\anaconda3\\lib\\site-packages (from matplotlib->catboost) (2.4.2)\n",
      "Requirement already satisfied: kiwisolver>=1.0.1 in d:\\users\\pgupta43\\appdata\\local\\continuum\\anaconda3\\lib\\site-packages (from matplotlib->catboost) (1.1.0)\n",
      "Requirement already satisfied: pytz>=2017.2 in d:\\users\\pgupta43\\appdata\\local\\continuum\\anaconda3\\lib\\site-packages (from pandas>=0.24.0->catboost) (2019.3)\n",
      "Collecting retrying>=1.3.3 (from plotly->catboost)\n",
      "  Downloading https://files.pythonhosted.org/packages/44/ef/beae4b4ef80902f22e3af073397f079c96969c69b2c7d52a57ea9ae61c9d/retrying-1.3.3.tar.gz\n",
      "Requirement already satisfied: setuptools in d:\\users\\pgupta43\\appdata\\local\\continuum\\anaconda3\\lib\\site-packages (from kiwisolver>=1.0.1->matplotlib->catboost) (41.4.0)\n",
      "Building wheels for collected packages: retrying\n",
      "  Building wheel for retrying (setup.py): started\n",
      "  Building wheel for retrying (setup.py): finished with status 'done'\n",
      "  Created wheel for retrying: filename=retrying-1.3.3-cp37-none-any.whl size=11435 sha256=c084c53887644136918fe3b6c3d82a06e7f0ecf1885c1548bd8f824a5d4e7ad2\n",
      "  Stored in directory: D:\\Users\\pgupta43\\AppData\\Local\\pip\\Cache\\wheels\\d7\\a9\\33\\acc7b709e2a35caa7d4cae442f6fe6fbf2c43f80823d46460c\n",
      "Successfully built retrying\n",
      "Installing collected packages: graphviz, retrying, plotly, catboost\n",
      "Successfully installed catboost-0.23.2 graphviz-0.14.1 plotly-4.9.0 retrying-1.3.3\n",
      "Note: you may need to restart the kernel to use updated packages.\n"
     ]
    }
   ],
   "source": [
    "pip install catboost"
   ]
  },
  {
   "cell_type": "code",
   "execution_count": 116,
   "metadata": {},
   "outputs": [],
   "source": [
    "from catboost import CatBoostClassifier\n",
    "from xgboost import XGBClassifier"
   ]
  },
  {
   "cell_type": "code",
   "execution_count": 119,
   "metadata": {},
   "outputs": [
    {
     "name": "stdout",
     "output_type": "stream",
     "text": [
      "Cross-validation of : <class 'catboost.core.CatBoostClassifier'>\n",
      "0:\tlearn: 0.9799873\ttotal: 112ms\tremaining: 448ms\n",
      "1:\tlearn: 0.8907913\ttotal: 261ms\tremaining: 391ms\n",
      "2:\tlearn: 0.8201014\ttotal: 370ms\tremaining: 247ms\n",
      "3:\tlearn: 0.7632640\ttotal: 475ms\tremaining: 119ms\n",
      "4:\tlearn: 0.7157590\ttotal: 518ms\tremaining: 0us\n",
      "0:\tlearn: 0.9798500\ttotal: 62.1ms\tremaining: 248ms\n",
      "1:\tlearn: 0.8909236\ttotal: 109ms\tremaining: 163ms\n",
      "2:\tlearn: 0.8202578\ttotal: 260ms\tremaining: 173ms\n",
      "3:\tlearn: 0.7629900\ttotal: 388ms\tremaining: 97.1ms\n",
      "4:\tlearn: 0.7161418\ttotal: 463ms\tremaining: 0us\n",
      "0:\tlearn: 0.9800855\ttotal: 52.9ms\tremaining: 211ms\n",
      "1:\tlearn: 0.8909525\ttotal: 107ms\tremaining: 160ms\n",
      "2:\tlearn: 0.8202584\ttotal: 170ms\tremaining: 113ms\n",
      "3:\tlearn: 0.7626492\ttotal: 241ms\tremaining: 60.4ms\n",
      "4:\tlearn: 0.7153027\ttotal: 298ms\tremaining: 0us\n",
      "0:\tlearn: 0.9798108\ttotal: 75ms\tremaining: 300ms\n",
      "1:\tlearn: 0.8897938\ttotal: 154ms\tremaining: 231ms\n",
      "2:\tlearn: 0.8190732\ttotal: 192ms\tremaining: 128ms\n",
      "3:\tlearn: 0.7618107\ttotal: 233ms\tremaining: 58.3ms\n",
      "4:\tlearn: 0.7148393\ttotal: 306ms\tremaining: 0us\n",
      "0:\tlearn: 0.9801685\ttotal: 111ms\tremaining: 444ms\n",
      "1:\tlearn: 0.8909416\ttotal: 403ms\tremaining: 604ms\n",
      "2:\tlearn: 0.8203210\ttotal: 441ms\tremaining: 294ms\n",
      "3:\tlearn: 0.7636675\ttotal: 639ms\tremaining: 160ms\n",
      "4:\tlearn: 0.7162322\ttotal: 708ms\tremaining: 0us\n",
      "CV score = 0.8409163987138264\n",
      "****\n",
      "Cross-validation of : <class 'xgboost.sklearn.XGBClassifier'>\n",
      "CV score = 0.8462861736334405\n",
      "****\n"
     ]
    }
   ],
   "source": [
    "cc = CatBoostClassifier(learning_rate=0.1, iterations=5)\n",
    "xg = XGBClassifier()\n",
    "models = [cc, xg]\n",
    "\n",
    "for model in models:\n",
    "    print('Cross-validation of : {0}'.format(model.__class__))\n",
    "    score = find_score(clf=model, X=X_train, y=y_train, scoring='accuracy')\n",
    "    print('CV score = {0}'.format(score))\n",
    "    print('****')"
   ]
  },
  {
   "cell_type": "code",
   "execution_count": 120,
   "metadata": {},
   "outputs": [
    {
     "name": "stdout",
     "output_type": "stream",
     "text": [
      "Cross-validation of : <class 'catboost.core.CatBoostClassifier'>\n",
      "0:\tlearn: 1.0616745\ttotal: 106ms\tremaining: 10.5s\n",
      "1:\tlearn: 1.0279426\ttotal: 157ms\tremaining: 7.67s\n",
      "2:\tlearn: 0.9965758\ttotal: 212ms\tremaining: 6.86s\n",
      "3:\tlearn: 0.9674138\ttotal: 269ms\tremaining: 6.46s\n",
      "4:\tlearn: 0.9403773\ttotal: 334ms\tremaining: 6.34s\n",
      "5:\tlearn: 0.9150176\ttotal: 378ms\tremaining: 5.92s\n",
      "6:\tlearn: 0.8913483\ttotal: 424ms\tremaining: 5.63s\n",
      "7:\tlearn: 0.8693988\ttotal: 470ms\tremaining: 5.41s\n",
      "8:\tlearn: 0.8486905\ttotal: 548ms\tremaining: 5.54s\n",
      "9:\tlearn: 0.8292259\ttotal: 595ms\tremaining: 5.36s\n",
      "10:\tlearn: 0.8108717\ttotal: 660ms\tremaining: 5.34s\n",
      "11:\tlearn: 0.7935983\ttotal: 738ms\tremaining: 5.41s\n",
      "12:\tlearn: 0.7772738\ttotal: 776ms\tremaining: 5.19s\n",
      "13:\tlearn: 0.7619367\ttotal: 851ms\tremaining: 5.23s\n",
      "14:\tlearn: 0.7471425\ttotal: 899ms\tremaining: 5.09s\n",
      "15:\tlearn: 0.7331561\ttotal: 952ms\tremaining: 5s\n",
      "16:\tlearn: 0.7200901\ttotal: 1.03s\tremaining: 5.02s\n",
      "17:\tlearn: 0.7076272\ttotal: 1.08s\tremaining: 4.94s\n",
      "18:\tlearn: 0.6957616\ttotal: 1.16s\tremaining: 4.96s\n",
      "19:\tlearn: 0.6844904\ttotal: 1.22s\tremaining: 4.87s\n",
      "20:\tlearn: 0.6737352\ttotal: 1.32s\tremaining: 4.95s\n",
      "21:\tlearn: 0.6637045\ttotal: 1.39s\tremaining: 4.93s\n",
      "22:\tlearn: 0.6543018\ttotal: 1.62s\tremaining: 5.42s\n",
      "23:\tlearn: 0.6451662\ttotal: 1.67s\tremaining: 5.29s\n",
      "24:\tlearn: 0.6364194\ttotal: 2.07s\tremaining: 6.21s\n",
      "25:\tlearn: 0.6282231\ttotal: 2.19s\tremaining: 6.23s\n",
      "26:\tlearn: 0.6201775\ttotal: 2.43s\tremaining: 6.58s\n",
      "27:\tlearn: 0.6124412\ttotal: 2.83s\tremaining: 7.28s\n",
      "28:\tlearn: 0.6051426\ttotal: 2.88s\tremaining: 7.05s\n",
      "29:\tlearn: 0.5983308\ttotal: 3.04s\tremaining: 7.11s\n",
      "30:\tlearn: 0.5917655\ttotal: 3.15s\tremaining: 7.01s\n",
      "31:\tlearn: 0.5853210\ttotal: 3.22s\tremaining: 6.85s\n",
      "32:\tlearn: 0.5794702\ttotal: 3.29s\tremaining: 6.67s\n",
      "33:\tlearn: 0.5737518\ttotal: 3.69s\tremaining: 7.17s\n",
      "34:\tlearn: 0.5684061\ttotal: 3.88s\tremaining: 7.2s\n",
      "35:\tlearn: 0.5630870\ttotal: 4.01s\tremaining: 7.13s\n",
      "36:\tlearn: 0.5578949\ttotal: 4.04s\tremaining: 6.88s\n",
      "37:\tlearn: 0.5530825\ttotal: 4.09s\tremaining: 6.67s\n",
      "38:\tlearn: 0.5483795\ttotal: 4.16s\tremaining: 6.5s\n",
      "39:\tlearn: 0.5436795\ttotal: 4.2s\tremaining: 6.29s\n",
      "40:\tlearn: 0.5393609\ttotal: 4.26s\tremaining: 6.13s\n",
      "41:\tlearn: 0.5351080\ttotal: 4.31s\tremaining: 5.96s\n",
      "42:\tlearn: 0.5310463\ttotal: 4.39s\tremaining: 5.82s\n",
      "43:\tlearn: 0.5273080\ttotal: 4.44s\tremaining: 5.65s\n",
      "44:\tlearn: 0.5236855\ttotal: 4.48s\tremaining: 5.48s\n",
      "45:\tlearn: 0.5200988\ttotal: 4.58s\tremaining: 5.37s\n",
      "46:\tlearn: 0.5167370\ttotal: 4.71s\tremaining: 5.31s\n",
      "47:\tlearn: 0.5135923\ttotal: 4.84s\tremaining: 5.24s\n",
      "48:\tlearn: 0.5107402\ttotal: 4.91s\tremaining: 5.11s\n",
      "49:\tlearn: 0.5078543\ttotal: 5.33s\tremaining: 5.33s\n",
      "50:\tlearn: 0.5049471\ttotal: 5.54s\tremaining: 5.32s\n",
      "51:\tlearn: 0.5021662\ttotal: 5.64s\tremaining: 5.21s\n",
      "52:\tlearn: 0.4996288\ttotal: 5.72s\tremaining: 5.07s\n",
      "53:\tlearn: 0.4970158\ttotal: 5.82s\tremaining: 4.96s\n",
      "54:\tlearn: 0.4942991\ttotal: 6.14s\tremaining: 5.02s\n",
      "55:\tlearn: 0.4921493\ttotal: 6.28s\tremaining: 4.93s\n",
      "56:\tlearn: 0.4899871\ttotal: 6.46s\tremaining: 4.88s\n",
      "57:\tlearn: 0.4877260\ttotal: 6.52s\tremaining: 4.72s\n",
      "58:\tlearn: 0.4855697\ttotal: 6.58s\tremaining: 4.58s\n",
      "59:\tlearn: 0.4833812\ttotal: 6.71s\tremaining: 4.47s\n",
      "60:\tlearn: 0.4812887\ttotal: 6.86s\tremaining: 4.39s\n",
      "61:\tlearn: 0.4794102\ttotal: 7.02s\tremaining: 4.3s\n",
      "62:\tlearn: 0.4776431\ttotal: 7.1s\tremaining: 4.17s\n",
      "63:\tlearn: 0.4757415\ttotal: 7.37s\tremaining: 4.14s\n",
      "64:\tlearn: 0.4740373\ttotal: 7.43s\tremaining: 4s\n",
      "65:\tlearn: 0.4723997\ttotal: 7.72s\tremaining: 3.98s\n",
      "66:\tlearn: 0.4706041\ttotal: 7.98s\tremaining: 3.93s\n",
      "67:\tlearn: 0.4690677\ttotal: 8.09s\tremaining: 3.81s\n",
      "68:\tlearn: 0.4677546\ttotal: 8.19s\tremaining: 3.68s\n",
      "69:\tlearn: 0.4664898\ttotal: 8.28s\tremaining: 3.55s\n",
      "70:\tlearn: 0.4651984\ttotal: 8.32s\tremaining: 3.4s\n",
      "71:\tlearn: 0.4637623\ttotal: 8.38s\tremaining: 3.26s\n",
      "72:\tlearn: 0.4623624\ttotal: 8.43s\tremaining: 3.12s\n",
      "73:\tlearn: 0.4611195\ttotal: 8.47s\tremaining: 2.98s\n",
      "74:\tlearn: 0.4597342\ttotal: 8.61s\tremaining: 2.87s\n",
      "75:\tlearn: 0.4585558\ttotal: 8.69s\tremaining: 2.74s\n",
      "76:\tlearn: 0.4575319\ttotal: 8.74s\tremaining: 2.61s\n",
      "77:\tlearn: 0.4563028\ttotal: 8.8s\tremaining: 2.48s\n",
      "78:\tlearn: 0.4552132\ttotal: 8.87s\tremaining: 2.36s\n",
      "79:\tlearn: 0.4543195\ttotal: 8.95s\tremaining: 2.24s\n",
      "80:\tlearn: 0.4533098\ttotal: 8.99s\tremaining: 2.11s\n",
      "81:\tlearn: 0.4523280\ttotal: 9.07s\tremaining: 1.99s\n",
      "82:\tlearn: 0.4513916\ttotal: 9.27s\tremaining: 1.9s\n",
      "83:\tlearn: 0.4505306\ttotal: 9.36s\tremaining: 1.78s\n",
      "84:\tlearn: 0.4497683\ttotal: 9.46s\tremaining: 1.67s\n",
      "85:\tlearn: 0.4489203\ttotal: 9.54s\tremaining: 1.55s\n",
      "86:\tlearn: 0.4480519\ttotal: 9.61s\tremaining: 1.44s\n",
      "87:\tlearn: 0.4471944\ttotal: 9.89s\tremaining: 1.35s\n",
      "88:\tlearn: 0.4465023\ttotal: 9.99s\tremaining: 1.23s\n",
      "89:\tlearn: 0.4458013\ttotal: 10.1s\tremaining: 1.12s\n",
      "90:\tlearn: 0.4452418\ttotal: 10.2s\tremaining: 1s\n",
      "91:\tlearn: 0.4445978\ttotal: 10.2s\tremaining: 887ms\n",
      "92:\tlearn: 0.4437934\ttotal: 10.2s\tremaining: 771ms\n",
      "93:\tlearn: 0.4431298\ttotal: 10.3s\tremaining: 658ms\n",
      "94:\tlearn: 0.4426454\ttotal: 10.4s\tremaining: 545ms\n",
      "95:\tlearn: 0.4420170\ttotal: 10.4s\tremaining: 434ms\n",
      "96:\tlearn: 0.4415206\ttotal: 10.5s\tremaining: 324ms\n",
      "97:\tlearn: 0.4409345\ttotal: 10.5s\tremaining: 215ms\n",
      "98:\tlearn: 0.4405183\ttotal: 10.6s\tremaining: 107ms\n",
      "99:\tlearn: 0.4399042\ttotal: 10.6s\tremaining: 0us\n",
      "0:\tlearn: 1.0616312\ttotal: 73.3ms\tremaining: 7.26s\n",
      "1:\tlearn: 1.0279434\ttotal: 192ms\tremaining: 9.43s\n",
      "2:\tlearn: 0.9966010\ttotal: 255ms\tremaining: 8.23s\n",
      "3:\tlearn: 0.9674648\ttotal: 324ms\tremaining: 7.78s\n",
      "4:\tlearn: 0.9404426\ttotal: 423ms\tremaining: 8.04s\n",
      "5:\tlearn: 0.9151789\ttotal: 500ms\tremaining: 7.83s\n",
      "6:\tlearn: 0.8914951\ttotal: 576ms\tremaining: 7.65s\n",
      "7:\tlearn: 0.8695707\ttotal: 778ms\tremaining: 8.95s\n",
      "8:\tlearn: 0.8488184\ttotal: 963ms\tremaining: 9.74s\n",
      "9:\tlearn: 0.8293686\ttotal: 1.05s\tremaining: 9.47s\n",
      "10:\tlearn: 0.8109003\ttotal: 1.11s\tremaining: 9.01s\n",
      "11:\tlearn: 0.7935690\ttotal: 1.24s\tremaining: 9.1s\n",
      "12:\tlearn: 0.7772331\ttotal: 1.4s\tremaining: 9.38s\n",
      "13:\tlearn: 0.7616512\ttotal: 1.61s\tremaining: 9.9s\n",
      "14:\tlearn: 0.7471788\ttotal: 1.65s\tremaining: 9.33s\n",
      "15:\tlearn: 0.7332719\ttotal: 1.72s\tremaining: 9.03s\n",
      "16:\tlearn: 0.7203119\ttotal: 1.76s\tremaining: 8.59s\n",
      "17:\tlearn: 0.7081080\ttotal: 1.88s\tremaining: 8.58s\n",
      "18:\tlearn: 0.6965044\ttotal: 2.08s\tremaining: 8.87s\n",
      "19:\tlearn: 0.6851513\ttotal: 2.25s\tremaining: 8.98s\n",
      "20:\tlearn: 0.6743937\ttotal: 2.41s\tremaining: 9.07s\n",
      "21:\tlearn: 0.6642519\ttotal: 2.49s\tremaining: 8.82s\n",
      "22:\tlearn: 0.6545877\ttotal: 2.59s\tremaining: 8.67s\n",
      "23:\tlearn: 0.6452553\ttotal: 2.87s\tremaining: 9.08s\n",
      "24:\tlearn: 0.6366397\ttotal: 2.95s\tremaining: 8.85s\n",
      "25:\tlearn: 0.6286725\ttotal: 3s\tremaining: 8.55s\n",
      "26:\tlearn: 0.6206264\ttotal: 3.2s\tremaining: 8.64s\n",
      "27:\tlearn: 0.6129857\ttotal: 3.37s\tremaining: 8.67s\n",
      "28:\tlearn: 0.6056644\ttotal: 3.55s\tremaining: 8.68s\n",
      "29:\tlearn: 0.5988698\ttotal: 3.65s\tremaining: 8.52s\n",
      "30:\tlearn: 0.5923126\ttotal: 3.7s\tremaining: 8.23s\n",
      "31:\tlearn: 0.5858739\ttotal: 3.89s\tremaining: 8.26s\n",
      "32:\tlearn: 0.5797904\ttotal: 4.02s\tremaining: 8.16s\n",
      "33:\tlearn: 0.5739510\ttotal: 4.05s\tremaining: 7.86s\n",
      "34:\tlearn: 0.5683419\ttotal: 4.14s\tremaining: 7.7s\n",
      "35:\tlearn: 0.5630677\ttotal: 4.3s\tremaining: 7.64s\n",
      "36:\tlearn: 0.5579913\ttotal: 4.49s\tremaining: 7.64s\n",
      "37:\tlearn: 0.5532200\ttotal: 4.84s\tremaining: 7.9s\n",
      "38:\tlearn: 0.5484713\ttotal: 4.96s\tremaining: 7.75s\n",
      "39:\tlearn: 0.5439640\ttotal: 5.05s\tremaining: 7.57s\n",
      "40:\tlearn: 0.5398128\ttotal: 5.14s\tremaining: 7.4s\n",
      "41:\tlearn: 0.5358833\ttotal: 5.3s\tremaining: 7.32s\n",
      "42:\tlearn: 0.5319782\ttotal: 5.42s\tremaining: 7.18s\n",
      "43:\tlearn: 0.5280710\ttotal: 5.53s\tremaining: 7.04s\n",
      "44:\tlearn: 0.5242057\ttotal: 5.59s\tremaining: 6.84s\n",
      "45:\tlearn: 0.5208742\ttotal: 5.64s\tremaining: 6.62s\n",
      "46:\tlearn: 0.5174873\ttotal: 5.69s\tremaining: 6.42s\n",
      "47:\tlearn: 0.5144405\ttotal: 5.75s\tremaining: 6.23s\n",
      "48:\tlearn: 0.5113648\ttotal: 5.83s\tremaining: 6.07s\n",
      "49:\tlearn: 0.5084359\ttotal: 5.87s\tremaining: 5.87s\n",
      "50:\tlearn: 0.5055706\ttotal: 5.94s\tremaining: 5.71s\n",
      "51:\tlearn: 0.5026401\ttotal: 5.99s\tremaining: 5.53s\n",
      "52:\tlearn: 0.4999015\ttotal: 6.03s\tremaining: 5.34s\n",
      "53:\tlearn: 0.4972730\ttotal: 6.09s\tremaining: 5.19s\n",
      "54:\tlearn: 0.4947991\ttotal: 6.18s\tremaining: 5.05s\n",
      "55:\tlearn: 0.4924012\ttotal: 6.29s\tremaining: 4.94s\n",
      "56:\tlearn: 0.4902771\ttotal: 6.49s\tremaining: 4.89s\n",
      "57:\tlearn: 0.4880880\ttotal: 6.59s\tremaining: 4.77s\n",
      "58:\tlearn: 0.4860503\ttotal: 6.64s\tremaining: 4.61s\n",
      "59:\tlearn: 0.4838721\ttotal: 6.7s\tremaining: 4.46s\n",
      "60:\tlearn: 0.4819298\ttotal: 6.74s\tremaining: 4.31s\n",
      "61:\tlearn: 0.4799514\ttotal: 6.84s\tremaining: 4.19s\n",
      "62:\tlearn: 0.4780770\ttotal: 6.89s\tremaining: 4.05s\n"
     ]
    },
    {
     "name": "stdout",
     "output_type": "stream",
     "text": [
      "63:\tlearn: 0.4762752\ttotal: 6.95s\tremaining: 3.91s\n",
      "64:\tlearn: 0.4744826\ttotal: 7.19s\tremaining: 3.87s\n",
      "65:\tlearn: 0.4732974\ttotal: 7.29s\tremaining: 3.75s\n",
      "66:\tlearn: 0.4716396\ttotal: 7.51s\tremaining: 3.7s\n",
      "67:\tlearn: 0.4700903\ttotal: 7.6s\tremaining: 3.58s\n",
      "68:\tlearn: 0.4686203\ttotal: 7.67s\tremaining: 3.44s\n",
      "69:\tlearn: 0.4671916\ttotal: 7.74s\tremaining: 3.32s\n",
      "70:\tlearn: 0.4657396\ttotal: 7.84s\tremaining: 3.2s\n",
      "71:\tlearn: 0.4644011\ttotal: 7.97s\tremaining: 3.1s\n",
      "72:\tlearn: 0.4631637\ttotal: 8.12s\tremaining: 3s\n",
      "73:\tlearn: 0.4619526\ttotal: 8.27s\tremaining: 2.9s\n",
      "74:\tlearn: 0.4606482\ttotal: 8.5s\tremaining: 2.83s\n",
      "75:\tlearn: 0.4596563\ttotal: 8.68s\tremaining: 2.74s\n",
      "76:\tlearn: 0.4584270\ttotal: 8.83s\tremaining: 2.64s\n",
      "77:\tlearn: 0.4574786\ttotal: 9.07s\tremaining: 2.56s\n",
      "78:\tlearn: 0.4565845\ttotal: 9.25s\tremaining: 2.46s\n",
      "79:\tlearn: 0.4555831\ttotal: 9.35s\tremaining: 2.34s\n",
      "80:\tlearn: 0.4547235\ttotal: 9.42s\tremaining: 2.21s\n",
      "81:\tlearn: 0.4537623\ttotal: 9.48s\tremaining: 2.08s\n",
      "82:\tlearn: 0.4528696\ttotal: 9.56s\tremaining: 1.96s\n",
      "83:\tlearn: 0.4520003\ttotal: 9.6s\tremaining: 1.83s\n",
      "84:\tlearn: 0.4513047\ttotal: 9.84s\tremaining: 1.74s\n",
      "85:\tlearn: 0.4505627\ttotal: 9.92s\tremaining: 1.61s\n",
      "86:\tlearn: 0.4497209\ttotal: 10.1s\tremaining: 1.51s\n",
      "87:\tlearn: 0.4489354\ttotal: 10.3s\tremaining: 1.4s\n",
      "88:\tlearn: 0.4482860\ttotal: 10.4s\tremaining: 1.28s\n",
      "89:\tlearn: 0.4475730\ttotal: 10.4s\tremaining: 1.16s\n",
      "90:\tlearn: 0.4469859\ttotal: 10.5s\tremaining: 1.03s\n",
      "91:\tlearn: 0.4462692\ttotal: 10.5s\tremaining: 915ms\n",
      "92:\tlearn: 0.4455051\ttotal: 10.6s\tremaining: 798ms\n",
      "93:\tlearn: 0.4447827\ttotal: 10.6s\tremaining: 679ms\n",
      "94:\tlearn: 0.4441243\ttotal: 10.7s\tremaining: 563ms\n",
      "95:\tlearn: 0.4435491\ttotal: 10.8s\tremaining: 450ms\n",
      "96:\tlearn: 0.4428990\ttotal: 10.8s\tremaining: 336ms\n",
      "97:\tlearn: 0.4424210\ttotal: 10.9s\tremaining: 223ms\n",
      "98:\tlearn: 0.4418395\ttotal: 11.2s\tremaining: 113ms\n",
      "99:\tlearn: 0.4413817\ttotal: 11.4s\tremaining: 0us\n",
      "0:\tlearn: 1.0617052\ttotal: 62.9ms\tremaining: 6.23s\n",
      "1:\tlearn: 1.0279972\ttotal: 134ms\tremaining: 6.58s\n",
      "2:\tlearn: 0.9966361\ttotal: 176ms\tremaining: 5.69s\n",
      "3:\tlearn: 0.9675130\ttotal: 212ms\tremaining: 5.08s\n",
      "4:\tlearn: 0.9404710\ttotal: 285ms\tremaining: 5.42s\n",
      "5:\tlearn: 0.9151019\ttotal: 346ms\tremaining: 5.42s\n",
      "6:\tlearn: 0.8914294\ttotal: 431ms\tremaining: 5.73s\n",
      "7:\tlearn: 0.8693086\ttotal: 491ms\tremaining: 5.65s\n",
      "8:\tlearn: 0.8486429\ttotal: 547ms\tremaining: 5.53s\n",
      "9:\tlearn: 0.8294947\ttotal: 588ms\tremaining: 5.29s\n",
      "10:\tlearn: 0.8111399\ttotal: 653ms\tremaining: 5.28s\n",
      "11:\tlearn: 0.7940132\ttotal: 801ms\tremaining: 5.87s\n",
      "12:\tlearn: 0.7775373\ttotal: 885ms\tremaining: 5.92s\n",
      "13:\tlearn: 0.7619135\ttotal: 1.09s\tremaining: 6.7s\n",
      "14:\tlearn: 0.7474531\ttotal: 1.17s\tremaining: 6.64s\n",
      "15:\tlearn: 0.7334739\ttotal: 1.32s\tremaining: 6.94s\n",
      "16:\tlearn: 0.7204974\ttotal: 1.4s\tremaining: 6.84s\n",
      "17:\tlearn: 0.7080757\ttotal: 1.51s\tremaining: 6.88s\n",
      "18:\tlearn: 0.6964683\ttotal: 1.65s\tremaining: 7.05s\n",
      "19:\tlearn: 0.6851086\ttotal: 1.76s\tremaining: 7.05s\n",
      "20:\tlearn: 0.6743364\ttotal: 1.97s\tremaining: 7.41s\n",
      "21:\tlearn: 0.6642072\ttotal: 2.07s\tremaining: 7.35s\n",
      "22:\tlearn: 0.6545371\ttotal: 2.14s\tremaining: 7.15s\n",
      "23:\tlearn: 0.6452202\ttotal: 2.21s\tremaining: 6.99s\n",
      "24:\tlearn: 0.6365845\ttotal: 2.34s\tremaining: 7.01s\n",
      "25:\tlearn: 0.6286070\ttotal: 2.39s\tremaining: 6.81s\n",
      "26:\tlearn: 0.6205612\ttotal: 2.54s\tremaining: 6.88s\n",
      "27:\tlearn: 0.6129116\ttotal: 2.63s\tremaining: 6.77s\n",
      "28:\tlearn: 0.6056019\ttotal: 2.82s\tremaining: 6.91s\n",
      "29:\tlearn: 0.5988692\ttotal: 2.95s\tremaining: 6.88s\n",
      "30:\tlearn: 0.5923059\ttotal: 3.1s\tremaining: 6.91s\n",
      "31:\tlearn: 0.5858321\ttotal: 3.29s\tremaining: 7s\n",
      "32:\tlearn: 0.5797183\ttotal: 3.56s\tremaining: 7.24s\n",
      "33:\tlearn: 0.5738656\ttotal: 3.79s\tremaining: 7.36s\n",
      "34:\tlearn: 0.5682642\ttotal: 3.93s\tremaining: 7.29s\n",
      "35:\tlearn: 0.5629767\ttotal: 4.12s\tremaining: 7.32s\n",
      "36:\tlearn: 0.5578807\ttotal: 4.16s\tremaining: 7.08s\n",
      "37:\tlearn: 0.5530465\ttotal: 4.21s\tremaining: 6.87s\n",
      "38:\tlearn: 0.5482782\ttotal: 4.25s\tremaining: 6.65s\n",
      "39:\tlearn: 0.5441449\ttotal: 4.33s\tremaining: 6.5s\n",
      "40:\tlearn: 0.5398462\ttotal: 4.5s\tremaining: 6.47s\n",
      "41:\tlearn: 0.5358291\ttotal: 4.63s\tremaining: 6.39s\n",
      "42:\tlearn: 0.5318427\ttotal: 4.66s\tremaining: 6.18s\n",
      "43:\tlearn: 0.5281597\ttotal: 4.74s\tremaining: 6.03s\n",
      "44:\tlearn: 0.5244838\ttotal: 4.8s\tremaining: 5.87s\n",
      "45:\tlearn: 0.5209611\ttotal: 4.87s\tremaining: 5.71s\n",
      "46:\tlearn: 0.5175132\ttotal: 4.93s\tremaining: 5.56s\n",
      "47:\tlearn: 0.5142377\ttotal: 4.97s\tremaining: 5.39s\n",
      "48:\tlearn: 0.5110808\ttotal: 5.04s\tremaining: 5.25s\n",
      "49:\tlearn: 0.5079635\ttotal: 5.1s\tremaining: 5.1s\n",
      "50:\tlearn: 0.5051499\ttotal: 5.16s\tremaining: 4.96s\n",
      "51:\tlearn: 0.5024001\ttotal: 5.28s\tremaining: 4.88s\n",
      "52:\tlearn: 0.4996717\ttotal: 5.54s\tremaining: 4.91s\n",
      "53:\tlearn: 0.4970680\ttotal: 5.64s\tremaining: 4.81s\n",
      "54:\tlearn: 0.4947480\ttotal: 5.78s\tremaining: 4.73s\n",
      "55:\tlearn: 0.4924833\ttotal: 5.84s\tremaining: 4.59s\n",
      "56:\tlearn: 0.4901452\ttotal: 5.89s\tremaining: 4.45s\n",
      "57:\tlearn: 0.4878728\ttotal: 5.95s\tremaining: 4.31s\n",
      "58:\tlearn: 0.4858164\ttotal: 6.04s\tremaining: 4.2s\n",
      "59:\tlearn: 0.4837904\ttotal: 6.11s\tremaining: 4.07s\n",
      "60:\tlearn: 0.4818383\ttotal: 6.16s\tremaining: 3.94s\n",
      "61:\tlearn: 0.4801584\ttotal: 6.2s\tremaining: 3.8s\n",
      "62:\tlearn: 0.4783686\ttotal: 6.24s\tremaining: 3.66s\n",
      "63:\tlearn: 0.4766961\ttotal: 6.29s\tremaining: 3.54s\n",
      "64:\tlearn: 0.4750023\ttotal: 6.33s\tremaining: 3.41s\n",
      "65:\tlearn: 0.4733310\ttotal: 6.38s\tremaining: 3.29s\n",
      "66:\tlearn: 0.4717287\ttotal: 6.43s\tremaining: 3.17s\n",
      "67:\tlearn: 0.4701081\ttotal: 6.51s\tremaining: 3.06s\n",
      "68:\tlearn: 0.4685990\ttotal: 6.55s\tremaining: 2.94s\n",
      "69:\tlearn: 0.4672000\ttotal: 6.61s\tremaining: 2.83s\n",
      "70:\tlearn: 0.4657691\ttotal: 6.67s\tremaining: 2.72s\n",
      "71:\tlearn: 0.4645564\ttotal: 6.72s\tremaining: 2.61s\n",
      "72:\tlearn: 0.4633963\ttotal: 6.75s\tremaining: 2.5s\n",
      "73:\tlearn: 0.4620891\ttotal: 6.86s\tremaining: 2.41s\n",
      "74:\tlearn: 0.4609823\ttotal: 6.91s\tremaining: 2.3s\n",
      "75:\tlearn: 0.4598167\ttotal: 6.94s\tremaining: 2.19s\n",
      "76:\tlearn: 0.4588054\ttotal: 7.03s\tremaining: 2.1s\n",
      "77:\tlearn: 0.4576667\ttotal: 7.08s\tremaining: 2s\n",
      "78:\tlearn: 0.4566595\ttotal: 7.12s\tremaining: 1.89s\n",
      "79:\tlearn: 0.4556754\ttotal: 7.17s\tremaining: 1.79s\n",
      "80:\tlearn: 0.4547149\ttotal: 7.22s\tremaining: 1.69s\n",
      "81:\tlearn: 0.4538753\ttotal: 7.3s\tremaining: 1.6s\n",
      "82:\tlearn: 0.4531200\ttotal: 7.35s\tremaining: 1.5s\n",
      "83:\tlearn: 0.4521955\ttotal: 7.38s\tremaining: 1.41s\n",
      "84:\tlearn: 0.4511665\ttotal: 7.43s\tremaining: 1.31s\n",
      "85:\tlearn: 0.4503584\ttotal: 7.48s\tremaining: 1.22s\n",
      "86:\tlearn: 0.4493894\ttotal: 7.54s\tremaining: 1.13s\n",
      "87:\tlearn: 0.4487463\ttotal: 7.59s\tremaining: 1.03s\n",
      "88:\tlearn: 0.4479578\ttotal: 7.64s\tremaining: 945ms\n",
      "89:\tlearn: 0.4471629\ttotal: 7.72s\tremaining: 858ms\n",
      "90:\tlearn: 0.4464782\ttotal: 7.77s\tremaining: 769ms\n",
      "91:\tlearn: 0.4457672\ttotal: 7.84s\tremaining: 681ms\n",
      "92:\tlearn: 0.4451095\ttotal: 8.07s\tremaining: 607ms\n",
      "93:\tlearn: 0.4445445\ttotal: 8.14s\tremaining: 519ms\n",
      "94:\tlearn: 0.4439904\ttotal: 8.17s\tremaining: 430ms\n",
      "95:\tlearn: 0.4432925\ttotal: 8.24s\tremaining: 343ms\n",
      "96:\tlearn: 0.4426614\ttotal: 8.31s\tremaining: 257ms\n",
      "97:\tlearn: 0.4420470\ttotal: 8.36s\tremaining: 171ms\n",
      "98:\tlearn: 0.4415180\ttotal: 8.39s\tremaining: 84.8ms\n",
      "99:\tlearn: 0.4409869\ttotal: 8.46s\tremaining: 0us\n",
      "0:\tlearn: 1.0616191\ttotal: 42.4ms\tremaining: 4.19s\n",
      "1:\tlearn: 1.0275605\ttotal: 78.2ms\tremaining: 3.83s\n",
      "2:\tlearn: 0.9961823\ttotal: 105ms\tremaining: 3.4s\n",
      "3:\tlearn: 0.9670825\ttotal: 137ms\tremaining: 3.29s\n",
      "4:\tlearn: 0.9400535\ttotal: 218ms\tremaining: 4.14s\n",
      "5:\tlearn: 0.9146925\ttotal: 360ms\tremaining: 5.64s\n",
      "6:\tlearn: 0.8911249\ttotal: 484ms\tremaining: 6.42s\n",
      "7:\tlearn: 0.8689649\ttotal: 644ms\tremaining: 7.4s\n",
      "8:\tlearn: 0.8482654\ttotal: 790ms\tremaining: 7.99s\n",
      "9:\tlearn: 0.8287989\ttotal: 904ms\tremaining: 8.14s\n",
      "10:\tlearn: 0.8106510\ttotal: 1.1s\tremaining: 8.9s\n",
      "11:\tlearn: 0.7932923\ttotal: 1.43s\tremaining: 10.5s\n",
      "12:\tlearn: 0.7769621\ttotal: 1.63s\tremaining: 10.9s\n",
      "13:\tlearn: 0.7618283\ttotal: 1.79s\tremaining: 11s\n",
      "14:\tlearn: 0.7474457\ttotal: 2.07s\tremaining: 11.7s\n",
      "15:\tlearn: 0.7338927\ttotal: 2.41s\tremaining: 12.6s\n",
      "16:\tlearn: 0.7206099\ttotal: 2.5s\tremaining: 12.2s\n",
      "17:\tlearn: 0.7079801\ttotal: 2.63s\tremaining: 12s\n",
      "18:\tlearn: 0.6965496\ttotal: 2.77s\tremaining: 11.8s\n",
      "19:\tlearn: 0.6854456\ttotal: 2.95s\tremaining: 11.8s\n",
      "20:\tlearn: 0.6747200\ttotal: 3.1s\tremaining: 11.7s\n",
      "21:\tlearn: 0.6644948\ttotal: 3.16s\tremaining: 11.2s\n",
      "22:\tlearn: 0.6547668\ttotal: 3.28s\tremaining: 11s\n",
      "23:\tlearn: 0.6455314\ttotal: 3.44s\tremaining: 10.9s\n",
      "24:\tlearn: 0.6367268\ttotal: 3.51s\tremaining: 10.5s\n",
      "25:\tlearn: 0.6283805\ttotal: 3.59s\tremaining: 10.2s\n",
      "26:\tlearn: 0.6202664\ttotal: 3.62s\tremaining: 9.79s\n"
     ]
    },
    {
     "name": "stdout",
     "output_type": "stream",
     "text": [
      "27:\tlearn: 0.6125630\ttotal: 3.71s\tremaining: 9.55s\n",
      "28:\tlearn: 0.6052077\ttotal: 3.78s\tremaining: 9.26s\n",
      "29:\tlearn: 0.5983886\ttotal: 3.84s\tremaining: 8.95s\n",
      "30:\tlearn: 0.5917359\ttotal: 3.88s\tremaining: 8.63s\n",
      "31:\tlearn: 0.5853453\ttotal: 3.94s\tremaining: 8.37s\n",
      "32:\tlearn: 0.5792085\ttotal: 3.97s\tremaining: 8.06s\n",
      "33:\tlearn: 0.5734833\ttotal: 4.04s\tremaining: 7.84s\n",
      "34:\tlearn: 0.5679324\ttotal: 4.1s\tremaining: 7.62s\n",
      "35:\tlearn: 0.5626606\ttotal: 4.16s\tremaining: 7.39s\n",
      "36:\tlearn: 0.5575405\ttotal: 4.23s\tremaining: 7.2s\n",
      "37:\tlearn: 0.5527259\ttotal: 4.27s\tremaining: 6.97s\n",
      "38:\tlearn: 0.5480348\ttotal: 4.34s\tremaining: 6.79s\n",
      "39:\tlearn: 0.5435054\ttotal: 4.46s\tremaining: 6.69s\n",
      "40:\tlearn: 0.5391112\ttotal: 4.57s\tremaining: 6.58s\n",
      "41:\tlearn: 0.5349025\ttotal: 4.66s\tremaining: 6.44s\n",
      "42:\tlearn: 0.5309073\ttotal: 4.76s\tremaining: 6.31s\n",
      "43:\tlearn: 0.5271650\ttotal: 4.81s\tremaining: 6.12s\n",
      "44:\tlearn: 0.5235722\ttotal: 4.86s\tremaining: 5.94s\n",
      "45:\tlearn: 0.5200586\ttotal: 4.91s\tremaining: 5.76s\n",
      "46:\tlearn: 0.5166922\ttotal: 4.94s\tremaining: 5.58s\n",
      "47:\tlearn: 0.5135741\ttotal: 5.03s\tremaining: 5.45s\n",
      "48:\tlearn: 0.5107283\ttotal: 5.08s\tremaining: 5.29s\n",
      "49:\tlearn: 0.5078375\ttotal: 5.17s\tremaining: 5.17s\n",
      "50:\tlearn: 0.5049106\ttotal: 5.24s\tremaining: 5.03s\n",
      "51:\tlearn: 0.5021393\ttotal: 5.28s\tremaining: 4.88s\n",
      "52:\tlearn: 0.4994852\ttotal: 5.35s\tremaining: 4.75s\n",
      "53:\tlearn: 0.4967725\ttotal: 5.43s\tremaining: 4.62s\n",
      "54:\tlearn: 0.4941046\ttotal: 5.51s\tremaining: 4.51s\n",
      "55:\tlearn: 0.4918816\ttotal: 5.66s\tremaining: 4.44s\n",
      "56:\tlearn: 0.4898086\ttotal: 5.8s\tremaining: 4.38s\n",
      "57:\tlearn: 0.4875638\ttotal: 6.01s\tremaining: 4.35s\n",
      "58:\tlearn: 0.4854199\ttotal: 6.09s\tremaining: 4.23s\n",
      "59:\tlearn: 0.4834230\ttotal: 6.24s\tremaining: 4.16s\n",
      "60:\tlearn: 0.4813004\ttotal: 6.31s\tremaining: 4.04s\n",
      "61:\tlearn: 0.4794397\ttotal: 6.37s\tremaining: 3.9s\n",
      "62:\tlearn: 0.4776889\ttotal: 6.42s\tremaining: 3.77s\n",
      "63:\tlearn: 0.4758751\ttotal: 6.48s\tremaining: 3.65s\n",
      "64:\tlearn: 0.4741572\ttotal: 6.57s\tremaining: 3.54s\n",
      "65:\tlearn: 0.4724660\ttotal: 6.62s\tremaining: 3.41s\n",
      "66:\tlearn: 0.4708479\ttotal: 6.68s\tremaining: 3.29s\n",
      "67:\tlearn: 0.4696183\ttotal: 6.73s\tremaining: 3.17s\n",
      "68:\tlearn: 0.4681953\ttotal: 6.78s\tremaining: 3.05s\n",
      "69:\tlearn: 0.4667632\ttotal: 6.89s\tremaining: 2.95s\n",
      "70:\tlearn: 0.4654815\ttotal: 7.21s\tremaining: 2.95s\n",
      "71:\tlearn: 0.4642272\ttotal: 7.39s\tremaining: 2.87s\n",
      "72:\tlearn: 0.4630498\ttotal: 7.57s\tremaining: 2.8s\n",
      "73:\tlearn: 0.4619454\ttotal: 7.73s\tremaining: 2.72s\n",
      "74:\tlearn: 0.4607041\ttotal: 8.09s\tremaining: 2.7s\n",
      "75:\tlearn: 0.4596594\ttotal: 8.41s\tremaining: 2.65s\n",
      "76:\tlearn: 0.4586303\ttotal: 8.46s\tremaining: 2.53s\n",
      "77:\tlearn: 0.4577066\ttotal: 8.53s\tremaining: 2.4s\n",
      "78:\tlearn: 0.4567267\ttotal: 8.6s\tremaining: 2.29s\n",
      "79:\tlearn: 0.4557290\ttotal: 8.66s\tremaining: 2.16s\n",
      "80:\tlearn: 0.4547312\ttotal: 8.76s\tremaining: 2.05s\n",
      "81:\tlearn: 0.4538031\ttotal: 8.85s\tremaining: 1.94s\n",
      "82:\tlearn: 0.4529127\ttotal: 8.91s\tremaining: 1.82s\n",
      "83:\tlearn: 0.4519925\ttotal: 8.99s\tremaining: 1.71s\n",
      "84:\tlearn: 0.4509499\ttotal: 9.08s\tremaining: 1.6s\n",
      "85:\tlearn: 0.4501989\ttotal: 9.17s\tremaining: 1.49s\n",
      "86:\tlearn: 0.4493482\ttotal: 9.23s\tremaining: 1.38s\n",
      "87:\tlearn: 0.4486738\ttotal: 9.35s\tremaining: 1.27s\n",
      "88:\tlearn: 0.4479720\ttotal: 9.49s\tremaining: 1.17s\n",
      "89:\tlearn: 0.4473446\ttotal: 9.62s\tremaining: 1.07s\n",
      "90:\tlearn: 0.4466963\ttotal: 9.76s\tremaining: 965ms\n",
      "91:\tlearn: 0.4461354\ttotal: 9.88s\tremaining: 859ms\n",
      "92:\tlearn: 0.4456201\ttotal: 9.96s\tremaining: 750ms\n",
      "93:\tlearn: 0.4448423\ttotal: 10.1s\tremaining: 647ms\n",
      "94:\tlearn: 0.4441970\ttotal: 10.2s\tremaining: 538ms\n",
      "95:\tlearn: 0.4436018\ttotal: 10.3s\tremaining: 429ms\n",
      "96:\tlearn: 0.4429902\ttotal: 10.4s\tremaining: 321ms\n",
      "97:\tlearn: 0.4423656\ttotal: 10.4s\tremaining: 213ms\n",
      "98:\tlearn: 0.4417858\ttotal: 10.5s\tremaining: 106ms\n",
      "99:\tlearn: 0.4412221\ttotal: 10.6s\tremaining: 0us\n",
      "0:\tlearn: 1.0617311\ttotal: 45.6ms\tremaining: 4.51s\n",
      "1:\tlearn: 1.0280264\ttotal: 213ms\tremaining: 10.4s\n",
      "2:\tlearn: 0.9966882\ttotal: 330ms\tremaining: 10.7s\n",
      "3:\tlearn: 0.9674869\ttotal: 486ms\tremaining: 11.7s\n",
      "4:\tlearn: 0.9404521\ttotal: 698ms\tremaining: 13.3s\n",
      "5:\tlearn: 0.9151035\ttotal: 807ms\tremaining: 12.6s\n",
      "6:\tlearn: 0.8915718\ttotal: 920ms\tremaining: 12.2s\n",
      "7:\tlearn: 0.8694557\ttotal: 1.06s\tremaining: 12.2s\n",
      "8:\tlearn: 0.8487933\ttotal: 1.15s\tremaining: 11.7s\n",
      "9:\tlearn: 0.8293812\ttotal: 1.26s\tremaining: 11.3s\n",
      "10:\tlearn: 0.8112382\ttotal: 1.32s\tremaining: 10.7s\n",
      "11:\tlearn: 0.7938846\ttotal: 1.4s\tremaining: 10.3s\n",
      "12:\tlearn: 0.7775451\ttotal: 1.44s\tremaining: 9.63s\n",
      "13:\tlearn: 0.7622804\ttotal: 1.52s\tremaining: 9.33s\n",
      "14:\tlearn: 0.7478781\ttotal: 1.57s\tremaining: 8.92s\n",
      "15:\tlearn: 0.7340135\ttotal: 1.63s\tremaining: 8.56s\n",
      "16:\tlearn: 0.7207596\ttotal: 1.69s\tremaining: 8.24s\n",
      "17:\tlearn: 0.7081772\ttotal: 1.74s\tremaining: 7.92s\n",
      "18:\tlearn: 0.6967626\ttotal: 1.78s\tremaining: 7.57s\n",
      "19:\tlearn: 0.6854036\ttotal: 1.83s\tremaining: 7.33s\n",
      "20:\tlearn: 0.6748654\ttotal: 1.91s\tremaining: 7.18s\n",
      "21:\tlearn: 0.6646817\ttotal: 1.95s\tremaining: 6.91s\n",
      "22:\tlearn: 0.6549893\ttotal: 2.01s\tremaining: 6.73s\n",
      "23:\tlearn: 0.6458128\ttotal: 2.06s\tremaining: 6.53s\n",
      "24:\tlearn: 0.6370061\ttotal: 2.14s\tremaining: 6.42s\n",
      "25:\tlearn: 0.6286838\ttotal: 2.18s\tremaining: 6.21s\n",
      "26:\tlearn: 0.6205963\ttotal: 2.28s\tremaining: 6.15s\n",
      "27:\tlearn: 0.6129354\ttotal: 2.37s\tremaining: 6.09s\n",
      "28:\tlearn: 0.6056540\ttotal: 2.46s\tremaining: 6.02s\n",
      "29:\tlearn: 0.5988562\ttotal: 2.51s\tremaining: 5.85s\n",
      "30:\tlearn: 0.5922233\ttotal: 2.58s\tremaining: 5.75s\n",
      "31:\tlearn: 0.5859813\ttotal: 2.93s\tremaining: 6.23s\n",
      "32:\tlearn: 0.5798212\ttotal: 3.03s\tremaining: 6.14s\n",
      "33:\tlearn: 0.5741258\ttotal: 3.13s\tremaining: 6.07s\n",
      "34:\tlearn: 0.5686104\ttotal: 3.21s\tremaining: 5.96s\n",
      "35:\tlearn: 0.5633753\ttotal: 3.27s\tremaining: 5.81s\n",
      "36:\tlearn: 0.5582318\ttotal: 3.4s\tremaining: 5.78s\n",
      "37:\tlearn: 0.5534589\ttotal: 3.48s\tremaining: 5.68s\n",
      "38:\tlearn: 0.5489610\ttotal: 3.55s\tremaining: 5.56s\n",
      "39:\tlearn: 0.5444060\ttotal: 3.65s\tremaining: 5.48s\n",
      "40:\tlearn: 0.5400709\ttotal: 3.76s\tremaining: 5.41s\n",
      "41:\tlearn: 0.5357794\ttotal: 3.91s\tremaining: 5.4s\n",
      "42:\tlearn: 0.5317824\ttotal: 4.09s\tremaining: 5.43s\n",
      "43:\tlearn: 0.5280570\ttotal: 4.17s\tremaining: 5.31s\n",
      "44:\tlearn: 0.5243269\ttotal: 4.3s\tremaining: 5.26s\n",
      "45:\tlearn: 0.5207904\ttotal: 4.34s\tremaining: 5.1s\n",
      "46:\tlearn: 0.5175243\ttotal: 4.44s\tremaining: 5.01s\n",
      "47:\tlearn: 0.5144070\ttotal: 4.58s\tremaining: 4.96s\n",
      "48:\tlearn: 0.5112956\ttotal: 4.67s\tremaining: 4.86s\n",
      "49:\tlearn: 0.5083871\ttotal: 4.72s\tremaining: 4.72s\n",
      "50:\tlearn: 0.5054678\ttotal: 4.76s\tremaining: 4.58s\n",
      "51:\tlearn: 0.5028309\ttotal: 4.88s\tremaining: 4.51s\n",
      "52:\tlearn: 0.5003076\ttotal: 4.93s\tremaining: 4.37s\n",
      "53:\tlearn: 0.4979817\ttotal: 4.97s\tremaining: 4.23s\n",
      "54:\tlearn: 0.4953860\ttotal: 5.04s\tremaining: 4.12s\n",
      "55:\tlearn: 0.4930816\ttotal: 5.11s\tremaining: 4.01s\n",
      "56:\tlearn: 0.4909868\ttotal: 5.19s\tremaining: 3.91s\n",
      "57:\tlearn: 0.4887751\ttotal: 5.27s\tremaining: 3.82s\n",
      "58:\tlearn: 0.4866643\ttotal: 5.35s\tremaining: 3.72s\n",
      "59:\tlearn: 0.4846979\ttotal: 5.42s\tremaining: 3.61s\n",
      "60:\tlearn: 0.4827300\ttotal: 5.46s\tremaining: 3.49s\n",
      "61:\tlearn: 0.4807411\ttotal: 5.57s\tremaining: 3.41s\n",
      "62:\tlearn: 0.4788593\ttotal: 5.64s\tremaining: 3.31s\n",
      "63:\tlearn: 0.4771912\ttotal: 5.7s\tremaining: 3.21s\n",
      "64:\tlearn: 0.4755397\ttotal: 5.78s\tremaining: 3.11s\n",
      "65:\tlearn: 0.4739158\ttotal: 5.91s\tremaining: 3.05s\n",
      "66:\tlearn: 0.4723249\ttotal: 5.97s\tremaining: 2.94s\n",
      "67:\tlearn: 0.4707629\ttotal: 6.02s\tremaining: 2.83s\n",
      "68:\tlearn: 0.4693380\ttotal: 6.07s\tremaining: 2.73s\n",
      "69:\tlearn: 0.4680075\ttotal: 6.11s\tremaining: 2.62s\n",
      "70:\tlearn: 0.4667064\ttotal: 6.17s\tremaining: 2.52s\n",
      "71:\tlearn: 0.4655239\ttotal: 6.24s\tremaining: 2.43s\n",
      "72:\tlearn: 0.4640829\ttotal: 6.3s\tremaining: 2.33s\n",
      "73:\tlearn: 0.4628464\ttotal: 6.41s\tremaining: 2.25s\n",
      "74:\tlearn: 0.4617050\ttotal: 6.49s\tremaining: 2.16s\n",
      "75:\tlearn: 0.4604330\ttotal: 6.55s\tremaining: 2.07s\n",
      "76:\tlearn: 0.4593444\ttotal: 6.62s\tremaining: 1.98s\n",
      "77:\tlearn: 0.4582054\ttotal: 6.71s\tremaining: 1.89s\n",
      "78:\tlearn: 0.4571320\ttotal: 6.88s\tremaining: 1.83s\n",
      "79:\tlearn: 0.4562452\ttotal: 6.99s\tremaining: 1.75s\n",
      "80:\tlearn: 0.4551668\ttotal: 7.05s\tremaining: 1.65s\n",
      "81:\tlearn: 0.4542494\ttotal: 7.12s\tremaining: 1.56s\n",
      "82:\tlearn: 0.4533125\ttotal: 7.21s\tremaining: 1.48s\n",
      "83:\tlearn: 0.4525516\ttotal: 7.26s\tremaining: 1.38s\n",
      "84:\tlearn: 0.4518065\ttotal: 7.33s\tremaining: 1.29s\n",
      "85:\tlearn: 0.4509800\ttotal: 7.41s\tremaining: 1.21s\n",
      "86:\tlearn: 0.4501913\ttotal: 7.47s\tremaining: 1.12s\n",
      "87:\tlearn: 0.4494188\ttotal: 7.51s\tremaining: 1.02s\n",
      "88:\tlearn: 0.4487733\ttotal: 7.57s\tremaining: 936ms\n"
     ]
    },
    {
     "name": "stdout",
     "output_type": "stream",
     "text": [
      "89:\tlearn: 0.4481521\ttotal: 7.69s\tremaining: 855ms\n",
      "90:\tlearn: 0.4473097\ttotal: 8.04s\tremaining: 795ms\n",
      "91:\tlearn: 0.4466707\ttotal: 8.22s\tremaining: 715ms\n",
      "92:\tlearn: 0.4460234\ttotal: 8.36s\tremaining: 629ms\n",
      "93:\tlearn: 0.4455053\ttotal: 8.43s\tremaining: 538ms\n",
      "94:\tlearn: 0.4450809\ttotal: 8.46s\tremaining: 445ms\n",
      "95:\tlearn: 0.4444038\ttotal: 8.63s\tremaining: 360ms\n",
      "96:\tlearn: 0.4439207\ttotal: 8.88s\tremaining: 275ms\n",
      "97:\tlearn: 0.4433843\ttotal: 9.1s\tremaining: 186ms\n",
      "98:\tlearn: 0.4428147\ttotal: 9.17s\tremaining: 92.6ms\n",
      "99:\tlearn: 0.4423597\ttotal: 9.34s\tremaining: 0us\n",
      "CV score = 0.8425401929260449\n",
      "****\n"
     ]
    }
   ],
   "source": [
    "cc = CatBoostClassifier(learning_rate=0.03, iterations=100)\n",
    "models = [cc]\n",
    "\n",
    "for model in models:\n",
    "    print('Cross-validation of : {0}'.format(model.__class__))\n",
    "    score = find_score(clf=model, X=X_train, y=y_train, scoring='accuracy')\n",
    "    print('CV score = {0}'.format(score))\n",
    "    print('****')"
   ]
  },
  {
   "cell_type": "code",
   "execution_count": null,
   "metadata": {},
   "outputs": [],
   "source": [
    "#Hyper Parameter Tuning LGBM"
   ]
  },
  {
   "cell_type": "code",
   "execution_count": 128,
   "metadata": {},
   "outputs": [],
   "source": [
    "from sklearn.metrics import SCORERS"
   ]
  },
  {
   "cell_type": "code",
   "execution_count": 129,
   "metadata": {},
   "outputs": [
    {
     "data": {
      "text/plain": [
       "dict_keys(['explained_variance', 'r2', 'max_error', 'neg_median_absolute_error', 'neg_mean_absolute_error', 'neg_mean_squared_error', 'neg_mean_squared_log_error', 'neg_root_mean_squared_error', 'neg_mean_poisson_deviance', 'neg_mean_gamma_deviance', 'accuracy', 'roc_auc', 'roc_auc_ovr', 'roc_auc_ovo', 'roc_auc_ovr_weighted', 'roc_auc_ovo_weighted', 'balanced_accuracy', 'average_precision', 'neg_log_loss', 'neg_brier_score', 'adjusted_rand_score', 'homogeneity_score', 'completeness_score', 'v_measure_score', 'mutual_info_score', 'adjusted_mutual_info_score', 'normalized_mutual_info_score', 'fowlkes_mallows_score', 'precision', 'precision_macro', 'precision_micro', 'precision_samples', 'precision_weighted', 'recall', 'recall_macro', 'recall_micro', 'recall_samples', 'recall_weighted', 'f1', 'f1_macro', 'f1_micro', 'f1_samples', 'f1_weighted', 'jaccard', 'jaccard_macro', 'jaccard_micro', 'jaccard_samples', 'jaccard_weighted'])"
      ]
     },
     "execution_count": 129,
     "metadata": {},
     "output_type": "execute_result"
    }
   ],
   "source": [
    "SCORERS.keys()"
   ]
  },
  {
   "cell_type": "code",
   "execution_count": 146,
   "metadata": {},
   "outputs": [],
   "source": [
    "model_lgbm = LGBMClassifier()\n",
    "boosting_type = ['gbdt','dart','goss']\n",
    "num_leaves = [10, 20, 30, 40, 50]\n",
    "max_depth = [-1, 5, 10, 15, 20]\n",
    "learning_rate = [0.03, 0.07, 0.3]\n",
    "n_estimators = [100, 200, 300, 400, 500]\n",
    "min_child_samples = [20, 40]\n",
    "colsample_bytree = [0.5, 1]\n",
    "reg_alpha = [2]\n",
    "reg_lambda = [2]\n",
    "param = dict(boosting_type=boosting_type, num_leaves=num_leaves, max_depth=max_depth, learning_rate=learning_rate,\n",
    "            n_estimators=n_estimators, min_child_samples=min_child_samples, colsample_bytree=colsample_bytree,\n",
    "            reg_alpha=reg_alpha)\n",
    "cv = RepeatedStratifiedKFold(n_splits=10, n_repeats=3, random_state=42)\n",
    "lgbm_search = RandomizedSearchCV(estimator=model_lgbm, param_distributions=param, n_jobs=-1, cv=cv, scoring='accuracy')\n",
    "lgbm_result = lgbm_search.fit(X_train,y_train)"
   ]
  },
  {
   "cell_type": "code",
   "execution_count": 147,
   "metadata": {},
   "outputs": [],
   "source": [
    "y_test_lgbm1 = lgbm_result.predict(X_test)"
   ]
  },
  {
   "cell_type": "code",
   "execution_count": 148,
   "metadata": {},
   "outputs": [
    {
     "data": {
      "text/plain": [
       "0.8441743566659164"
      ]
     },
     "execution_count": 148,
     "metadata": {},
     "output_type": "execute_result"
    }
   ],
   "source": [
    "score = accuracy_score(y_test, y_test_lgbm1)\n",
    "score"
   ]
  },
  {
   "cell_type": "code",
   "execution_count": 149,
   "metadata": {},
   "outputs": [],
   "source": [
    "pred_lgbm1 = lgbm_result.predict(test_df)"
   ]
  },
  {
   "cell_type": "code",
   "execution_count": 206,
   "metadata": {},
   "outputs": [],
   "source": [
    "pickle_path = \"./pred_lgbm1.pkl\"\n",
    "pickle_mapping = open(pickle_path,\"wb\")\n",
    "pickle.dump(pred_lgbm1, pickle_mapping)\n",
    "pickle_mapping.close()"
   ]
  },
  {
   "cell_type": "code",
   "execution_count": 150,
   "metadata": {},
   "outputs": [],
   "source": [
    "submission_lgbm_1 = pd.DataFrame(columns=['ID','Crop_Damage'])\n",
    "submission_lgbm_1['ID'] = test_id\n",
    "submission_lgbm_1['Crop_Damage'] = pred_lgbm1\n",
    "submission_lgbm_1.to_csv('submission_lgbm_1.csv', index=False)"
   ]
  },
  {
   "cell_type": "code",
   "execution_count": 151,
   "metadata": {},
   "outputs": [
    {
     "data": {
      "text/plain": [
       "{'reg_alpha': 2,\n",
       " 'num_leaves': 40,\n",
       " 'n_estimators': 500,\n",
       " 'min_child_samples': 20,\n",
       " 'max_depth': 15,\n",
       " 'learning_rate': 0.03,\n",
       " 'colsample_bytree': 1,\n",
       " 'boosting_type': 'dart'}"
      ]
     },
     "execution_count": 151,
     "metadata": {},
     "output_type": "execute_result"
    }
   ],
   "source": [
    "lgbm_result.best_params_"
   ]
  },
  {
   "cell_type": "code",
   "execution_count": 152,
   "metadata": {},
   "outputs": [
    {
     "data": {
      "text/plain": [
       "0.8478081457663451"
      ]
     },
     "execution_count": 152,
     "metadata": {},
     "output_type": "execute_result"
    }
   ],
   "source": [
    "lgbm_result.best_score_"
   ]
  },
  {
   "cell_type": "code",
   "execution_count": 154,
   "metadata": {},
   "outputs": [],
   "source": [
    "lgbm_finely_tuned = LGBMClassifier(reg_alpha=2,num_leaves=40, n_estimators=500, min_child_samples=20, max_depth=15,\n",
    "                                  learning_rate=0.03, colsample_bytree=1, boosting_type='dart')"
   ]
  },
  {
   "cell_type": "code",
   "execution_count": 155,
   "metadata": {},
   "outputs": [
    {
     "data": {
      "text/plain": [
       "LGBMClassifier(boosting_type='dart', colsample_bytree=1, learning_rate=0.03,\n",
       "               max_depth=15, n_estimators=500, num_leaves=40, reg_alpha=2)"
      ]
     },
     "execution_count": 155,
     "metadata": {},
     "output_type": "execute_result"
    }
   ],
   "source": [
    "lgbm_finely_tuned.fit(X, y)"
   ]
  },
  {
   "cell_type": "code",
   "execution_count": 156,
   "metadata": {},
   "outputs": [
    {
     "data": {
      "text/plain": [
       "0.8490287875036575"
      ]
     },
     "execution_count": 156,
     "metadata": {},
     "output_type": "execute_result"
    }
   ],
   "source": [
    "score = accuracy_score(y, lgbm_finely_tuned.predict(X))\n",
    "score"
   ]
  },
  {
   "cell_type": "code",
   "execution_count": 157,
   "metadata": {},
   "outputs": [],
   "source": [
    "lgbm_pred_ft = lgbm_finely_tuned.predict(test_df)"
   ]
  },
  {
   "cell_type": "code",
   "execution_count": 208,
   "metadata": {},
   "outputs": [],
   "source": [
    "pickle_path = \"./lgbm_pred_ft.pkl\"\n",
    "pickle_mapping = open(pickle_path,\"wb\")\n",
    "pickle.dump(lgbm_pred_ft, pickle_mapping)\n",
    "pickle_mapping.close()"
   ]
  },
  {
   "cell_type": "code",
   "execution_count": 158,
   "metadata": {},
   "outputs": [],
   "source": [
    "submission_lgbm_ft = pd.DataFrame(columns=['ID','Crop_Damage'])\n",
    "submission_lgbm_ft['ID'] = test_id\n",
    "submission_lgbm_ft['Crop_Damage'] = lgbm_pred_ft\n",
    "submission_lgbm_ft.to_csv('submission_lgbm_ft.csv', index=False)"
   ]
  },
  {
   "cell_type": "code",
   "execution_count": 159,
   "metadata": {},
   "outputs": [],
   "source": [
    "#Predicting using different seeds - Train,test data"
   ]
  },
  {
   "cell_type": "code",
   "execution_count": 176,
   "metadata": {},
   "outputs": [
    {
     "name": "stdout",
     "output_type": "stream",
     "text": [
      "1 0.8453372346012454\n",
      "3 0.8453372346012454\n",
      "10 0.8453372346012454\n",
      "15 0.8453372346012454\n",
      "20 0.8453372346012454\n",
      "33 0.8453372346012454\n",
      "333 0.8453372346012454\n",
      "1997 0.8453372346012454\n",
      "2020 0.8453372346012454\n",
      "2021 0.8453372346012454\n"
     ]
    }
   ],
   "source": [
    "preds = 0\n",
    "for seed_val in [1,3,10,15,20,33,333,1997,2020,2021]:\n",
    "    #print (seed_val)\n",
    "    p=LGBMClassifier(n_estimators=500,learning_rate=0.03,random_state=seed_val,colsample_bytree=1,reg_alpha=2,reg_lambda=2)\n",
    "    p.fit(X_train, y_train)\n",
    "    p_predict=p.predict(X_test)\n",
    "    score = accuracy_score(y_test, p_predict)\n",
    "    print(seed_val, score)"
   ]
  },
  {
   "cell_type": "code",
   "execution_count": 177,
   "metadata": {},
   "outputs": [
    {
     "name": "stdout",
     "output_type": "stream",
     "text": [
      "0.8453372346012454\n"
     ]
    }
   ],
   "source": [
    "pp=LGBMClassifier(n_estimators=500,learning_rate=0.03,random_state=2020,colsample_bytree=1,reg_alpha=2,reg_lambda=2)\n",
    "pp.fit(X_train, y_train)\n",
    "pp_predict=pp.predict(X_test)\n",
    "score = accuracy_score(y_test, pp_predict)\n",
    "print(score)"
   ]
  },
  {
   "cell_type": "code",
   "execution_count": 179,
   "metadata": {},
   "outputs": [],
   "source": [
    "a = pp.predict(test_df)"
   ]
  },
  {
   "cell_type": "code",
   "execution_count": 209,
   "metadata": {},
   "outputs": [],
   "source": [
    "pickle_path = \"./a.pkl\"\n",
    "pickle_mapping = open(pickle_path,\"wb\")\n",
    "pickle.dump(a, pickle_mapping)\n",
    "pickle_mapping.close()"
   ]
  },
  {
   "cell_type": "code",
   "execution_count": 180,
   "metadata": {},
   "outputs": [],
   "source": [
    "submission_lgbm_ft_rs = pd.DataFrame(columns=['ID','Crop_Damage'])\n",
    "submission_lgbm_ft_rs['ID'] = test_id\n",
    "submission_lgbm_ft_rs['Crop_Damage'] = a\n",
    "submission_lgbm_ft_rs.to_csv('submission_lgbm_ft_rs.csv', index=False)"
   ]
  },
  {
   "cell_type": "code",
   "execution_count": 181,
   "metadata": {},
   "outputs": [],
   "source": [
    "#Training with whole data"
   ]
  },
  {
   "cell_type": "markdown",
   "metadata": {},
   "source": [
    "# Best Model"
   ]
  },
  {
   "cell_type": "code",
   "execution_count": 183,
   "metadata": {},
   "outputs": [
    {
     "name": "stdout",
     "output_type": "stream",
     "text": [
      "0.8510995070787098\n"
     ]
    }
   ],
   "source": [
    "pp1=LGBMClassifier(n_estimators=500,learning_rate=0.03,random_state=2020,colsample_bytree=1,reg_alpha=2,reg_lambda=2)\n",
    "pp1.fit(X, y)\n",
    "pp_predict_1=pp1.predict(X)\n",
    "score = accuracy_score(y, pp_predict_1)\n",
    "print(score)"
   ]
  },
  {
   "cell_type": "markdown",
   "metadata": {},
   "source": [
    "##### Best Prediction"
   ]
  },
  {
   "cell_type": "code",
   "execution_count": 184,
   "metadata": {},
   "outputs": [],
   "source": [
    "aa = pp1.predict(test_df)\n",
    "submission_lgbm_ft_rs_1 = pd.DataFrame(columns=['ID','Crop_Damage'])\n",
    "submission_lgbm_ft_rs_1['ID'] = test_id\n",
    "submission_lgbm_ft_rs_1['Crop_Damage'] = aa\n",
    "submission_lgbm_ft_rs_1.to_csv('submission_lgbm_ft_rs_1.csv', index=False)\n",
    "#best"
   ]
  },
  {
   "cell_type": "code",
   "execution_count": 210,
   "metadata": {},
   "outputs": [],
   "source": [
    "pickle_path = \"./aa.pkl\"\n",
    "pickle_mapping = open(pickle_path,\"wb\")\n",
    "pickle.dump(aa, pickle_mapping)\n",
    "pickle_mapping.close()"
   ]
  },
  {
   "cell_type": "code",
   "execution_count": 186,
   "metadata": {},
   "outputs": [
    {
     "data": {
      "text/plain": [
       "<AxesSubplot:>"
      ]
     },
     "execution_count": 186,
     "metadata": {},
     "output_type": "execute_result"
    },
    {
     "data": {
      "image/png": "[encoded data removed]",
      "text/plain": [
       "<Figure size 432x288 with 1 Axes>"
      ]
     },
     "metadata": {
      "needs_background": "light"
     },
     "output_type": "display_data"
    }
   ],
   "source": [
    "fi = pd.Series(index = X.columns, data = pp1.feature_importances_)\n",
    "fi.sort_values(ascending=False)[0:20][::-1].plot(kind = 'barh')"
   ]
  },
  {
   "cell_type": "code",
   "execution_count": 188,
   "metadata": {},
   "outputs": [
    {
     "data": {
      "text/plain": [
       "Estimated_Insects_Count     13157\n",
       "Number_Doses_Week            8637\n",
       "Number_Weeks_Used           12360\n",
       "Number_Weeks_Quit            6281\n",
       "Crop_Type_0                  1370\n",
       "Crop_Type_1                     6\n",
       "Soil_Type_0                   801\n",
       "Soil_Type_1                    10\n",
       "Pesticide_Use_Category_1        0\n",
       "Pesticide_Use_Category_2     1011\n",
       "Pesticide_Use_Category_3       87\n",
       "Season_1                      405\n",
       "Season_2                      475\n",
       "Season_3                      400\n",
       "dtype: int32"
      ]
     },
     "execution_count": 188,
     "metadata": {},
     "output_type": "execute_result"
    }
   ],
   "source": [
    "fi = pd.Series(index = X.columns, data = pp1.feature_importances_)\n",
    "fi"
   ]
  }
 ],
 "metadata": {
  "kernelspec": {
   "display_name": "Python 3",
   "language": "python",
   "name": "python3"
  },
  "language_info": {
   "codemirror_mode": {
    "name": "ipython",
    "version": 3
   },
   "file_extension": ".py",
   "mimetype": "text/x-python",
   "name": "python",
   "nbconvert_exporter": "python",
   "pygments_lexer": "ipython3",
   "version": "3.7.4"
  }
 },
 "nbformat": 4,
 "nbformat_minor": 2
}
